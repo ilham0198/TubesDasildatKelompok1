{
  "cells": [
    {
      "cell_type": "markdown",
      "metadata": {
        "id": "xLKx6pROjTJl"
      },
      "source": [
        "# Biodata Mahasiswa\n",
        "## Praktikum Pekan 10 : Regresi menggunakan Model Neural Network (NN) pada IMDB Dataset\n",
        "\n",
        "VSI2J3 - Dasar Ilmu Data\n",
        "\n",
        "NIM: 607012300120\n",
        "\n",
        "Nama: Ilham Setiawan Siregar\n",
        "\n",
        "Kelas: D3SI-47-04"
      ]
    },
    {
      "cell_type": "markdown",
      "metadata": {
        "id": "f6bmAzWYDNfs"
      },
      "source": [
        "# Deskripsi\n",
        "\n",
        "Colab berikut merupakan contoh untuk memprediksi sentimen (positif/Mengelompokkan rating numerik (misalnya 1–10) menjadi kategori ordinal (contoh: 1–3 = Buruk, 4–7 = Sedang, 8–10 = Baik).\n",
        "Kolom Target: ratings yang diubah menjadi label kategorikal."
      ]
    },
    {
      "cell_type": "markdown",
      "metadata": {
        "id": "oIDsbjD1K26h"
      },
      "source": [
        "# Tahapan code untuk persiapan data\n",
        "1. Koneksi colab dengan GDrive\n",
        "3. Import library yang dibutuhkan\n",
        "4. Load dataset\n",
        "5. Tampilkan contoh data"
      ]
    },
    {
      "cell_type": "markdown",
      "metadata": {
        "id": "fpatHZbExcaA"
      },
      "source": [
        "## Koneksi colab dengan GDrive\n",
        "\n",
        "\n",
        "\n"
      ]
    },
    {
      "cell_type": "code",
      "execution_count": null,
      "metadata": {
        "colab": {
          "base_uri": "https://localhost:8080/"
        },
        "id": "LJEk10f1xRwL",
        "outputId": "b871dfb3-607b-472b-e5f3-1ef32b3a7010"
      },
      "outputs": [
        {
          "output_type": "stream",
          "name": "stdout",
          "text": [
            "Mounted at /content/drive\n"
          ]
        }
      ],
      "source": [
        "from google.colab import drive\n",
        "drive.mount('/content/drive', force_remount=True)"
      ]
    },
    {
      "cell_type": "code",
      "execution_count": null,
      "metadata": {
        "colab": {
          "base_uri": "https://localhost:8080/"
        },
        "id": "XkDI9pc5x7JN",
        "outputId": "1e6c087c-cb13-43bb-9e9b-3b570eb096a3"
      },
      "outputs": [
        {
          "output_type": "stream",
          "name": "stderr",
          "text": [
            "[nltk_data] Downloading package stopwords to /root/nltk_data...\n",
            "[nltk_data]   Package stopwords is already up-to-date!\n",
            "[nltk_data] Downloading package punkt to /root/nltk_data...\n",
            "[nltk_data]   Package punkt is already up-to-date!\n"
          ]
        }
      ],
      "source": [
        "# Import library yang diperlukan\n",
        "import numpy as np\n",
        "import pandas as pd\n",
        "import tensorflow as tf\n",
        "from sklearn.model_selection import train_test_split\n",
        "from sklearn.preprocessing import LabelEncoder\n",
        "from tensorflow.keras.preprocessing.text import Tokenizer\n",
        "from tensorflow.keras.preprocessing.sequence import pad_sequences\n",
        "from tensorflow.keras.models import Sequential\n",
        "from tensorflow.keras.layers import Dense, Embedding, LSTM, SpatialDropout1D, Dropout\n",
        "from tensorflow.keras.utils import to_categorical\n",
        "import nltk\n",
        "from nltk.corpus import stopwords\n",
        "from nltk.tokenize import word_tokenize\n",
        "import re\n",
        "from sklearn.metrics import mean_absolute_error, mean_squared_error, r2_score\n",
        "from sklearn.model_selection import RandomizedSearchCV\n",
        "from sklearn.metrics import classification_report, accuracy_score\n",
        "import matplotlib.pyplot as plt\n",
        "import seaborn as sns\n",
        "\n",
        "# Download data NLTK untuk preprocessing teks\n",
        "nltk.download('stopwords')\n",
        "nltk.download('punkt')\n",
        "\n",
        "# Set seed untuk reproduktibilitas\n",
        "np.random.seed(42)\n",
        "tf.random.set_seed(42)"
      ]
    },
    {
      "cell_type": "markdown",
      "metadata": {
        "id": "z16rnHX2HtYT"
      },
      "source": [
        "## Load dataset"
      ]
    },
    {
      "cell_type": "code",
      "execution_count": null,
      "metadata": {
        "colab": {
          "base_uri": "https://localhost:8080/"
        },
        "id": "cCJPiA4IHtYc",
        "outputId": "4e527b7b-4ee6-49fc-a614-e763f8054fb4"
      },
      "outputs": [
        {
          "output_type": "stream",
          "name": "stdout",
          "text": [
            "(50000, 3)\n"
          ]
        }
      ],
      "source": [
        "#load data google drive\n",
        "df = pd.read_csv('/content/drive/MyDrive/Colab Notebooks/imdb_sup.csv')\n",
        "print (df.shape)"
      ]
    },
    {
      "cell_type": "markdown",
      "metadata": {
        "id": "UBXC7j1NHtYg"
      },
      "source": [
        "## Tampilkan contoh data"
      ]
    },
    {
      "cell_type": "code",
      "execution_count": null,
      "metadata": {
        "colab": {
          "base_uri": "https://localhost:8080/",
          "height": 424
        },
        "id": "56C0Bcp9HtYi",
        "outputId": "d12d9c43-1401-42ae-8b47-8e17f6b79b39"
      },
      "outputs": [
        {
          "output_type": "execute_result",
          "data": {
            "text/plain": [
              "                                               Review  Rating  Sentiment\n",
              "0   Kurt Russell's chameleon-like performance, cou...      10          1\n",
              "1   It was extremely low budget(it some scenes it ...       8          1\n",
              "2   James Cagney is best known for his tough chara...       8          1\n",
              "3   Following the brilliant \"Goyôkiba\" (aka. \"Hanz...       8          1\n",
              "4   One of the last classics of the French New Wav...      10          1\n",
              "..                                                ...     ...        ...\n",
              "95  I really liked this version of 'Vanishing Poin...       8          1\n",
              "96  Colman's performance is aided by the brilliant...      10          1\n",
              "97  Michelle Rodriguez is a well-built high-school...       7          1\n",
              "98  Henry Fonda brilliantly captures what we have ...       9          1\n",
              "99  COME ON!!! They did that on purpose!! Two of m...       7          1\n",
              "\n",
              "[100 rows x 3 columns]"
            ],
            "text/html": [
              "\n",
              "  <div id=\"df-26c76730-4d5b-49ff-9e4e-6f112c0d50d6\" class=\"colab-df-container\">\n",
              "    <div>\n",
              "<style scoped>\n",
              "    .dataframe tbody tr th:only-of-type {\n",
              "        vertical-align: middle;\n",
              "    }\n",
              "\n",
              "    .dataframe tbody tr th {\n",
              "        vertical-align: top;\n",
              "    }\n",
              "\n",
              "    .dataframe thead th {\n",
              "        text-align: right;\n",
              "    }\n",
              "</style>\n",
              "<table border=\"1\" class=\"dataframe\">\n",
              "  <thead>\n",
              "    <tr style=\"text-align: right;\">\n",
              "      <th></th>\n",
              "      <th>Review</th>\n",
              "      <th>Rating</th>\n",
              "      <th>Sentiment</th>\n",
              "    </tr>\n",
              "  </thead>\n",
              "  <tbody>\n",
              "    <tr>\n",
              "      <th>0</th>\n",
              "      <td>Kurt Russell's chameleon-like performance, cou...</td>\n",
              "      <td>10</td>\n",
              "      <td>1</td>\n",
              "    </tr>\n",
              "    <tr>\n",
              "      <th>1</th>\n",
              "      <td>It was extremely low budget(it some scenes it ...</td>\n",
              "      <td>8</td>\n",
              "      <td>1</td>\n",
              "    </tr>\n",
              "    <tr>\n",
              "      <th>2</th>\n",
              "      <td>James Cagney is best known for his tough chara...</td>\n",
              "      <td>8</td>\n",
              "      <td>1</td>\n",
              "    </tr>\n",
              "    <tr>\n",
              "      <th>3</th>\n",
              "      <td>Following the brilliant \"Goyôkiba\" (aka. \"Hanz...</td>\n",
              "      <td>8</td>\n",
              "      <td>1</td>\n",
              "    </tr>\n",
              "    <tr>\n",
              "      <th>4</th>\n",
              "      <td>One of the last classics of the French New Wav...</td>\n",
              "      <td>10</td>\n",
              "      <td>1</td>\n",
              "    </tr>\n",
              "    <tr>\n",
              "      <th>...</th>\n",
              "      <td>...</td>\n",
              "      <td>...</td>\n",
              "      <td>...</td>\n",
              "    </tr>\n",
              "    <tr>\n",
              "      <th>95</th>\n",
              "      <td>I really liked this version of 'Vanishing Poin...</td>\n",
              "      <td>8</td>\n",
              "      <td>1</td>\n",
              "    </tr>\n",
              "    <tr>\n",
              "      <th>96</th>\n",
              "      <td>Colman's performance is aided by the brilliant...</td>\n",
              "      <td>10</td>\n",
              "      <td>1</td>\n",
              "    </tr>\n",
              "    <tr>\n",
              "      <th>97</th>\n",
              "      <td>Michelle Rodriguez is a well-built high-school...</td>\n",
              "      <td>7</td>\n",
              "      <td>1</td>\n",
              "    </tr>\n",
              "    <tr>\n",
              "      <th>98</th>\n",
              "      <td>Henry Fonda brilliantly captures what we have ...</td>\n",
              "      <td>9</td>\n",
              "      <td>1</td>\n",
              "    </tr>\n",
              "    <tr>\n",
              "      <th>99</th>\n",
              "      <td>COME ON!!! They did that on purpose!! Two of m...</td>\n",
              "      <td>7</td>\n",
              "      <td>1</td>\n",
              "    </tr>\n",
              "  </tbody>\n",
              "</table>\n",
              "<p>100 rows × 3 columns</p>\n",
              "</div>\n",
              "    <div class=\"colab-df-buttons\">\n",
              "\n",
              "  <div class=\"colab-df-container\">\n",
              "    <button class=\"colab-df-convert\" onclick=\"convertToInteractive('df-26c76730-4d5b-49ff-9e4e-6f112c0d50d6')\"\n",
              "            title=\"Convert this dataframe to an interactive table.\"\n",
              "            style=\"display:none;\">\n",
              "\n",
              "  <svg xmlns=\"http://www.w3.org/2000/svg\" height=\"24px\" viewBox=\"0 -960 960 960\">\n",
              "    <path d=\"M120-120v-720h720v720H120Zm60-500h600v-160H180v160Zm220 220h160v-160H400v160Zm0 220h160v-160H400v160ZM180-400h160v-160H180v160Zm440 0h160v-160H620v160ZM180-180h160v-160H180v160Zm440 0h160v-160H620v160Z\"/>\n",
              "  </svg>\n",
              "    </button>\n",
              "\n",
              "  <style>\n",
              "    .colab-df-container {\n",
              "      display:flex;\n",
              "      gap: 12px;\n",
              "    }\n",
              "\n",
              "    .colab-df-convert {\n",
              "      background-color: #E8F0FE;\n",
              "      border: none;\n",
              "      border-radius: 50%;\n",
              "      cursor: pointer;\n",
              "      display: none;\n",
              "      fill: #1967D2;\n",
              "      height: 32px;\n",
              "      padding: 0 0 0 0;\n",
              "      width: 32px;\n",
              "    }\n",
              "\n",
              "    .colab-df-convert:hover {\n",
              "      background-color: #E2EBFA;\n",
              "      box-shadow: 0px 1px 2px rgba(60, 64, 67, 0.3), 0px 1px 3px 1px rgba(60, 64, 67, 0.15);\n",
              "      fill: #174EA6;\n",
              "    }\n",
              "\n",
              "    .colab-df-buttons div {\n",
              "      margin-bottom: 4px;\n",
              "    }\n",
              "\n",
              "    [theme=dark] .colab-df-convert {\n",
              "      background-color: #3B4455;\n",
              "      fill: #D2E3FC;\n",
              "    }\n",
              "\n",
              "    [theme=dark] .colab-df-convert:hover {\n",
              "      background-color: #434B5C;\n",
              "      box-shadow: 0px 1px 3px 1px rgba(0, 0, 0, 0.15);\n",
              "      filter: drop-shadow(0px 1px 2px rgba(0, 0, 0, 0.3));\n",
              "      fill: #FFFFFF;\n",
              "    }\n",
              "  </style>\n",
              "\n",
              "    <script>\n",
              "      const buttonEl =\n",
              "        document.querySelector('#df-26c76730-4d5b-49ff-9e4e-6f112c0d50d6 button.colab-df-convert');\n",
              "      buttonEl.style.display =\n",
              "        google.colab.kernel.accessAllowed ? 'block' : 'none';\n",
              "\n",
              "      async function convertToInteractive(key) {\n",
              "        const element = document.querySelector('#df-26c76730-4d5b-49ff-9e4e-6f112c0d50d6');\n",
              "        const dataTable =\n",
              "          await google.colab.kernel.invokeFunction('convertToInteractive',\n",
              "                                                    [key], {});\n",
              "        if (!dataTable) return;\n",
              "\n",
              "        const docLinkHtml = 'Like what you see? Visit the ' +\n",
              "          '<a target=\"_blank\" href=https://colab.research.google.com/notebooks/data_table.ipynb>data table notebook</a>'\n",
              "          + ' to learn more about interactive tables.';\n",
              "        element.innerHTML = '';\n",
              "        dataTable['output_type'] = 'display_data';\n",
              "        await google.colab.output.renderOutput(dataTable, element);\n",
              "        const docLink = document.createElement('div');\n",
              "        docLink.innerHTML = docLinkHtml;\n",
              "        element.appendChild(docLink);\n",
              "      }\n",
              "    </script>\n",
              "  </div>\n",
              "\n",
              "\n",
              "    <div id=\"df-87a9b52a-9715-45cd-969d-8f8341ceafac\">\n",
              "      <button class=\"colab-df-quickchart\" onclick=\"quickchart('df-87a9b52a-9715-45cd-969d-8f8341ceafac')\"\n",
              "                title=\"Suggest charts\"\n",
              "                style=\"display:none;\">\n",
              "\n",
              "<svg xmlns=\"http://www.w3.org/2000/svg\" height=\"24px\"viewBox=\"0 0 24 24\"\n",
              "     width=\"24px\">\n",
              "    <g>\n",
              "        <path d=\"M19 3H5c-1.1 0-2 .9-2 2v14c0 1.1.9 2 2 2h14c1.1 0 2-.9 2-2V5c0-1.1-.9-2-2-2zM9 17H7v-7h2v7zm4 0h-2V7h2v10zm4 0h-2v-4h2v4z\"/>\n",
              "    </g>\n",
              "</svg>\n",
              "      </button>\n",
              "\n",
              "<style>\n",
              "  .colab-df-quickchart {\n",
              "      --bg-color: #E8F0FE;\n",
              "      --fill-color: #1967D2;\n",
              "      --hover-bg-color: #E2EBFA;\n",
              "      --hover-fill-color: #174EA6;\n",
              "      --disabled-fill-color: #AAA;\n",
              "      --disabled-bg-color: #DDD;\n",
              "  }\n",
              "\n",
              "  [theme=dark] .colab-df-quickchart {\n",
              "      --bg-color: #3B4455;\n",
              "      --fill-color: #D2E3FC;\n",
              "      --hover-bg-color: #434B5C;\n",
              "      --hover-fill-color: #FFFFFF;\n",
              "      --disabled-bg-color: #3B4455;\n",
              "      --disabled-fill-color: #666;\n",
              "  }\n",
              "\n",
              "  .colab-df-quickchart {\n",
              "    background-color: var(--bg-color);\n",
              "    border: none;\n",
              "    border-radius: 50%;\n",
              "    cursor: pointer;\n",
              "    display: none;\n",
              "    fill: var(--fill-color);\n",
              "    height: 32px;\n",
              "    padding: 0;\n",
              "    width: 32px;\n",
              "  }\n",
              "\n",
              "  .colab-df-quickchart:hover {\n",
              "    background-color: var(--hover-bg-color);\n",
              "    box-shadow: 0 1px 2px rgba(60, 64, 67, 0.3), 0 1px 3px 1px rgba(60, 64, 67, 0.15);\n",
              "    fill: var(--button-hover-fill-color);\n",
              "  }\n",
              "\n",
              "  .colab-df-quickchart-complete:disabled,\n",
              "  .colab-df-quickchart-complete:disabled:hover {\n",
              "    background-color: var(--disabled-bg-color);\n",
              "    fill: var(--disabled-fill-color);\n",
              "    box-shadow: none;\n",
              "  }\n",
              "\n",
              "  .colab-df-spinner {\n",
              "    border: 2px solid var(--fill-color);\n",
              "    border-color: transparent;\n",
              "    border-bottom-color: var(--fill-color);\n",
              "    animation:\n",
              "      spin 1s steps(1) infinite;\n",
              "  }\n",
              "\n",
              "  @keyframes spin {\n",
              "    0% {\n",
              "      border-color: transparent;\n",
              "      border-bottom-color: var(--fill-color);\n",
              "      border-left-color: var(--fill-color);\n",
              "    }\n",
              "    20% {\n",
              "      border-color: transparent;\n",
              "      border-left-color: var(--fill-color);\n",
              "      border-top-color: var(--fill-color);\n",
              "    }\n",
              "    30% {\n",
              "      border-color: transparent;\n",
              "      border-left-color: var(--fill-color);\n",
              "      border-top-color: var(--fill-color);\n",
              "      border-right-color: var(--fill-color);\n",
              "    }\n",
              "    40% {\n",
              "      border-color: transparent;\n",
              "      border-right-color: var(--fill-color);\n",
              "      border-top-color: var(--fill-color);\n",
              "    }\n",
              "    60% {\n",
              "      border-color: transparent;\n",
              "      border-right-color: var(--fill-color);\n",
              "    }\n",
              "    80% {\n",
              "      border-color: transparent;\n",
              "      border-right-color: var(--fill-color);\n",
              "      border-bottom-color: var(--fill-color);\n",
              "    }\n",
              "    90% {\n",
              "      border-color: transparent;\n",
              "      border-bottom-color: var(--fill-color);\n",
              "    }\n",
              "  }\n",
              "</style>\n",
              "\n",
              "      <script>\n",
              "        async function quickchart(key) {\n",
              "          const quickchartButtonEl =\n",
              "            document.querySelector('#' + key + ' button');\n",
              "          quickchartButtonEl.disabled = true;  // To prevent multiple clicks.\n",
              "          quickchartButtonEl.classList.add('colab-df-spinner');\n",
              "          try {\n",
              "            const charts = await google.colab.kernel.invokeFunction(\n",
              "                'suggestCharts', [key], {});\n",
              "          } catch (error) {\n",
              "            console.error('Error during call to suggestCharts:', error);\n",
              "          }\n",
              "          quickchartButtonEl.classList.remove('colab-df-spinner');\n",
              "          quickchartButtonEl.classList.add('colab-df-quickchart-complete');\n",
              "        }\n",
              "        (() => {\n",
              "          let quickchartButtonEl =\n",
              "            document.querySelector('#df-87a9b52a-9715-45cd-969d-8f8341ceafac button');\n",
              "          quickchartButtonEl.style.display =\n",
              "            google.colab.kernel.accessAllowed ? 'block' : 'none';\n",
              "        })();\n",
              "      </script>\n",
              "    </div>\n",
              "\n",
              "    </div>\n",
              "  </div>\n"
            ],
            "application/vnd.google.colaboratory.intrinsic+json": {
              "type": "dataframe",
              "variable_name": "df",
              "summary": "{\n  \"name\": \"df\",\n  \"rows\": 50000,\n  \"fields\": [\n    {\n      \"column\": \"Review\",\n      \"properties\": {\n        \"dtype\": \"string\",\n        \"num_unique_values\": 49582,\n        \"samples\": [\n          \"Spoilers !!! To understand what really happened first you have to be a warrior, to stay alive in real war, to think off-line,analytically,critically and not linear. Otherwise you will come to false conclusions that Maj.Gray was dumb or unstable person. Truth is something completely different. He was firm hardened veteran and only way he could be killed by Capt. O'Malley is that he wants her to kill him. It was his way out. He choose it. He was not man who will retire. If you've never been on a first line you can't understand it. He intentionally prepare his own suicide. First he seduced Mary Jane, than intentionally acted as a dumb, than stageed argue - shutting incident before witnesses (to protect her later after she done what he wants her to do if it comes to trial), than gave her son a bullets (to assure he could load her gun later), came that night, loaded her gun, woke her up, put her gun in her hands, acted as he was attacking her, after shot first time he raised knife and cried \\\"One kill\\\" so she shot him again and before died he put knife off like he was trying to took him back again after first shot. He also gave her a message with his last cry. \\\"After first kill everything will change inside your mind and destroy your life, this is the the only way for me to die as a man, yet to be killed by somebody I love is my choice and my only prerogative, war and army is not what you thought so far, grow up finally and save your life till you can\\\". She left military life at the end. She did understand him. And he did not die in vain. The man who helped him to prepare all that and after to carry out the trial and the outcome of that trial was Col. Sam Doran with help of Lt. Tim Macy. Macy didn't know what is really going on and what will be the outcome but did what he was expected to do. He took photos of Mary Jane and Maj.Gray by order of Col. Sam Doran who gave that order because Maj.Gray asked him to do that. After she refused to leave army (what Col.Doran asked her to do) Col. Doran convinced prosecutor to charge her with a premeditated murder (he knew she cant be found quilty) instead of manslaughter (there was some possibility to be found quilty) with taken photos. Col.Doran also suppress argue-shutting incident to escalate to prevent prosecutor to have any doubt about premeditated murder charge but let it be revealed during the trial what greatly influenced the jury. I have no doubt about outcome of that trial. Why Col. Doran did that way? Because he will do anything Maj.Gray ask him to do. Why? Because he saved his life on a battlefield. Why Mary Jane choose to go to trial? Because she was a person who have integrity, a principles. And that is why Maj.Gray choose her. It has to be somebody deserving, somebody honourable. Keeping his secret about what really happened that night she also prove her honour.<br /><br />Miroslav\",\n          \"Yes.A real stinker. I saw this movie on the advice of my \\\"sweet\\\" friends who told me that this is a great \\\"psychological\\\" movie. This film makes every effort not to be understandable. I was aware that I was in for a stinker after seeing the first 20 minutes.I waited since I expected to see something valuable, and most important of all, I PAID for this film. The wait was unbearable. After seeing the film, I talked with my friends and learned that in the intellectual environments ( They call themselves under this title ) of Turkey this \\\"movie\\\" had recognised as a masterpiece. Yes, a masterpiece, but in the category of stinkers.I think that a movie must be self-explanatory. This film is just the opposite. Keep away from this thing which calls itself a \\\"movie\\\". Burn your money instead of paying for this \\\"phenomenon\\\". Rate: 1 out of 10\",\n          \"I consented to watching this movie with a group of friends despite my extreme dislike for horror movies. However, it was not the shock of a monster that turned me off this movie, it was the horrendous acting and absolutely disgusting ending. Within, or the Cavern, has no redeeming qualities- it is poorly made, laughably scripted, sickeningly bloody and the inclusion of the gratuitous final scene repulses me. No, it is not my dislike for horror movies that makes me hate this film-I've seen such wonderful teen horrors as \\\"House of Wax\\\", its the fact that the film leaves you with the awful understanding that by renting the video, you are supporting the creators of Within\"\n        ],\n        \"semantic_type\": \"\",\n        \"description\": \"\"\n      }\n    },\n    {\n      \"column\": \"Rating\",\n      \"properties\": {\n        \"dtype\": \"number\",\n        \"std\": 3,\n        \"min\": 1,\n        \"max\": 10,\n        \"num_unique_values\": 8,\n        \"samples\": [\n          8,\n          2,\n          10\n        ],\n        \"semantic_type\": \"\",\n        \"description\": \"\"\n      }\n    },\n    {\n      \"column\": \"Sentiment\",\n      \"properties\": {\n        \"dtype\": \"number\",\n        \"std\": 0,\n        \"min\": 0,\n        \"max\": 1,\n        \"num_unique_values\": 2,\n        \"samples\": [\n          0,\n          1\n        ],\n        \"semantic_type\": \"\",\n        \"description\": \"\"\n      }\n    }\n  ]\n}"
            }
          },
          "metadata": {},
          "execution_count": 26
        }
      ],
      "source": [
        "df.head(100)"
      ]
    },
    {
      "cell_type": "markdown",
      "metadata": {
        "id": "xsSYvV1aynMm"
      },
      "source": [
        "# B. Regresi menggunakan Model NN"
      ]
    },
    {
      "cell_type": "markdown",
      "metadata": {
        "id": "ORaCLGin0SAt"
      },
      "source": [
        "## 2) Pilih fitur yang akan digunakan"
      ]
    },
    {
      "cell_type": "code",
      "execution_count": null,
      "metadata": {
        "id": "mpFKXxWh0Z27"
      },
      "outputs": [],
      "source": [
        "# Code pemilihan fitur dan label\n",
        "X_text = df['Review']  # Fitur utama: teks ulasan\n",
        "X_sentiment = df['Sentiment']  # Fitur tambahan: sentimen biner (opsional)\n",
        "y = df['Rating']  # Label: rating numerik (akan diubah menjadi kategorikal)\n",
        "\n",
        "# Jika ingin menggunakan Sentiment sebagai fitur tambahan, gabungkan dengan teks nanti\n",
        "# Untuk saat ini, hanya gunakan Review sebagai fitur utama\n",
        "X = X_text"
      ]
    },
    {
      "cell_type": "markdown",
      "metadata": {
        "id": "4n1gMct1u-cJ"
      },
      "source": [
        "## 3) Lakukan pre-processing (jika diperlukan)"
      ]
    },
    {
      "cell_type": "code",
      "execution_count": null,
      "metadata": {
        "id": "CJ7oM0x5vGRJ"
      },
      "outputs": [],
      "source": [
        "# kode pre-processing\n",
        "# Preprocessing teks dan label\n",
        "def preprocess_text(text):\n",
        "    text = text.lower()  # Konversi ke lowercase\n",
        "    text = re.sub(r'[^a-zA-Z\\s]', '', text)  # Hapus karakter khusus dan angka\n",
        "    tokens = word_tokenize(text)  # Tokenisasi\n",
        "    stop_words = set(stopwords.words('english'))  # Stopwords\n",
        "    tokens = [word for word in tokens if word not in stop_words]  # Hapus stopwords\n",
        "    return ' '.join(tokens)\n",
        "\n",
        "# Terapkan preprocessing pada kolom Review\n",
        "X_text = X_text.apply(preprocess_text)\n",
        "\n",
        "# Konversi rating menjadi kategori ordinal\n",
        "def categorize_rating(rating):\n",
        "    if rating <= 3:\n",
        "        return 'Buruk'\n",
        "    elif rating <= 7:\n",
        "        return 'Sedang'\n",
        "    else:\n",
        "        return 'Baik'\n",
        "\n",
        "y = y.apply(categorize_rating)\n",
        "\n",
        "# Encode label kategorikal menjadi numerik\n",
        "label_encoder = LabelEncoder()\n",
        "y_encoded = label_encoder.fit_transform(y)\n",
        "y_categorical = to_categorical(y_encoded)  # One-hot encoding untuk klasifikasi\n",
        "\n",
        "# Tokenisasi teks\n",
        "max_words = 5000  # Jumlah kata maksimum untuk kamus\n",
        "max_len = 200     # Panjang maksimum sequence\n",
        "tokenizer = Tokenizer(num_words=max_words)\n",
        "tokenizer.fit_on_texts(X_text)\n",
        "X_sequences = tokenizer.texts_to_sequences(X_text)\n",
        "X_padded = pad_sequences(X_sequences, maxlen=max_len)\n",
        "\n",
        "# Opsional: Gabungkan Sentiment sebagai fitur tambahan\n",
        "# X_combined = np.hstack((X_padded, X_sentiment.values.reshape(-1, 1)))\n",
        "# Untuk saat ini, gunakan hanya X_padded\n",
        "X = X_padded"
      ]
    },
    {
      "cell_type": "markdown",
      "metadata": {
        "id": "9rfZuqbj0pHb"
      },
      "source": [
        "## 4) Pembagian Dataset Training dan Testing"
      ]
    },
    {
      "cell_type": "code",
      "execution_count": null,
      "metadata": {
        "colab": {
          "base_uri": "https://localhost:8080/"
        },
        "id": "67br6eli0oAD",
        "outputId": "f6369229-213e-45ab-f099-fda34e640b65"
      },
      "outputs": [
        {
          "output_type": "stream",
          "name": "stdout",
          "text": [
            "Ukuran data training: (40000, 200)\n",
            "Ukuran data testing: (10000, 200)\n"
          ]
        }
      ],
      "source": [
        "# Pembagian dataset menjadi training dan testing\n",
        "X_train, X_test, y_train, y_test, train_indices, test_indices = train_test_split(\n",
        "    X, y_categorical, df.index, test_size=0.2, random_state=42\n",
        ")\n",
        "\n",
        "print(\"Ukuran data training:\", X_train.shape)\n",
        "print(\"Ukuran data testing:\", X_test.shape)"
      ]
    },
    {
      "cell_type": "markdown",
      "metadata": {
        "id": "bX2dsLZh1ydf"
      },
      "source": [
        "## 5) Siapkan regressor, tentukan variabel dan parameter"
      ]
    },
    {
      "cell_type": "code",
      "execution_count": null,
      "metadata": {
        "id": "O-UOk0-f1xMh",
        "colab": {
          "base_uri": "https://localhost:8080/",
          "height": 416
        },
        "outputId": "29813e74-8cc4-4ba5-c66a-6a8c5abbac1c"
      },
      "outputs": [
        {
          "output_type": "stream",
          "name": "stderr",
          "text": [
            "/usr/local/lib/python3.11/dist-packages/keras/src/layers/core/embedding.py:90: UserWarning: Argument `input_length` is deprecated. Just remove it.\n",
            "  warnings.warn(\n"
          ]
        },
        {
          "output_type": "display_data",
          "data": {
            "text/plain": [
              "\u001b[1mModel: \"sequential\"\u001b[0m\n"
            ],
            "text/html": [
              "<pre style=\"white-space:pre;overflow-x:auto;line-height:normal;font-family:Menlo,'DejaVu Sans Mono',consolas,'Courier New',monospace\"><span style=\"font-weight: bold\">Model: \"sequential\"</span>\n",
              "</pre>\n"
            ]
          },
          "metadata": {}
        },
        {
          "output_type": "display_data",
          "data": {
            "text/plain": [
              "┏━━━━━━━━━━━━━━━━━━━━━━━━━━━━━━━━━┳━━━━━━━━━━━━━━━━━━━━━━━━┳━━━━━━━━━━━━━━━┓\n",
              "┃\u001b[1m \u001b[0m\u001b[1mLayer (type)                   \u001b[0m\u001b[1m \u001b[0m┃\u001b[1m \u001b[0m\u001b[1mOutput Shape          \u001b[0m\u001b[1m \u001b[0m┃\u001b[1m \u001b[0m\u001b[1m      Param #\u001b[0m\u001b[1m \u001b[0m┃\n",
              "┡━━━━━━━━━━━━━━━━━━━━━━━━━━━━━━━━━╇━━━━━━━━━━━━━━━━━━━━━━━━╇━━━━━━━━━━━━━━━┩\n",
              "│ embedding (\u001b[38;5;33mEmbedding\u001b[0m)           │ ?                      │   \u001b[38;5;34m0\u001b[0m (unbuilt) │\n",
              "├─────────────────────────────────┼────────────────────────┼───────────────┤\n",
              "│ spatial_dropout1d               │ ?                      │             \u001b[38;5;34m0\u001b[0m │\n",
              "│ (\u001b[38;5;33mSpatialDropout1D\u001b[0m)              │                        │               │\n",
              "├─────────────────────────────────┼────────────────────────┼───────────────┤\n",
              "│ lstm (\u001b[38;5;33mLSTM\u001b[0m)                     │ ?                      │   \u001b[38;5;34m0\u001b[0m (unbuilt) │\n",
              "├─────────────────────────────────┼────────────────────────┼───────────────┤\n",
              "│ lstm_1 (\u001b[38;5;33mLSTM\u001b[0m)                   │ ?                      │   \u001b[38;5;34m0\u001b[0m (unbuilt) │\n",
              "├─────────────────────────────────┼────────────────────────┼───────────────┤\n",
              "│ dense (\u001b[38;5;33mDense\u001b[0m)                   │ ?                      │   \u001b[38;5;34m0\u001b[0m (unbuilt) │\n",
              "├─────────────────────────────────┼────────────────────────┼───────────────┤\n",
              "│ dropout (\u001b[38;5;33mDropout\u001b[0m)               │ ?                      │             \u001b[38;5;34m0\u001b[0m │\n",
              "├─────────────────────────────────┼────────────────────────┼───────────────┤\n",
              "│ dense_1 (\u001b[38;5;33mDense\u001b[0m)                 │ ?                      │   \u001b[38;5;34m0\u001b[0m (unbuilt) │\n",
              "└─────────────────────────────────┴────────────────────────┴───────────────┘\n"
            ],
            "text/html": [
              "<pre style=\"white-space:pre;overflow-x:auto;line-height:normal;font-family:Menlo,'DejaVu Sans Mono',consolas,'Courier New',monospace\">┏━━━━━━━━━━━━━━━━━━━━━━━━━━━━━━━━━┳━━━━━━━━━━━━━━━━━━━━━━━━┳━━━━━━━━━━━━━━━┓\n",
              "┃<span style=\"font-weight: bold\"> Layer (type)                    </span>┃<span style=\"font-weight: bold\"> Output Shape           </span>┃<span style=\"font-weight: bold\">       Param # </span>┃\n",
              "┡━━━━━━━━━━━━━━━━━━━━━━━━━━━━━━━━━╇━━━━━━━━━━━━━━━━━━━━━━━━╇━━━━━━━━━━━━━━━┩\n",
              "│ embedding (<span style=\"color: #0087ff; text-decoration-color: #0087ff\">Embedding</span>)           │ ?                      │   <span style=\"color: #00af00; text-decoration-color: #00af00\">0</span> (unbuilt) │\n",
              "├─────────────────────────────────┼────────────────────────┼───────────────┤\n",
              "│ spatial_dropout1d               │ ?                      │             <span style=\"color: #00af00; text-decoration-color: #00af00\">0</span> │\n",
              "│ (<span style=\"color: #0087ff; text-decoration-color: #0087ff\">SpatialDropout1D</span>)              │                        │               │\n",
              "├─────────────────────────────────┼────────────────────────┼───────────────┤\n",
              "│ lstm (<span style=\"color: #0087ff; text-decoration-color: #0087ff\">LSTM</span>)                     │ ?                      │   <span style=\"color: #00af00; text-decoration-color: #00af00\">0</span> (unbuilt) │\n",
              "├─────────────────────────────────┼────────────────────────┼───────────────┤\n",
              "│ lstm_1 (<span style=\"color: #0087ff; text-decoration-color: #0087ff\">LSTM</span>)                   │ ?                      │   <span style=\"color: #00af00; text-decoration-color: #00af00\">0</span> (unbuilt) │\n",
              "├─────────────────────────────────┼────────────────────────┼───────────────┤\n",
              "│ dense (<span style=\"color: #0087ff; text-decoration-color: #0087ff\">Dense</span>)                   │ ?                      │   <span style=\"color: #00af00; text-decoration-color: #00af00\">0</span> (unbuilt) │\n",
              "├─────────────────────────────────┼────────────────────────┼───────────────┤\n",
              "│ dropout (<span style=\"color: #0087ff; text-decoration-color: #0087ff\">Dropout</span>)               │ ?                      │             <span style=\"color: #00af00; text-decoration-color: #00af00\">0</span> │\n",
              "├─────────────────────────────────┼────────────────────────┼───────────────┤\n",
              "│ dense_1 (<span style=\"color: #0087ff; text-decoration-color: #0087ff\">Dense</span>)                 │ ?                      │   <span style=\"color: #00af00; text-decoration-color: #00af00\">0</span> (unbuilt) │\n",
              "└─────────────────────────────────┴────────────────────────┴───────────────┘\n",
              "</pre>\n"
            ]
          },
          "metadata": {}
        },
        {
          "output_type": "display_data",
          "data": {
            "text/plain": [
              "\u001b[1m Total params: \u001b[0m\u001b[38;5;34m0\u001b[0m (0.00 B)\n"
            ],
            "text/html": [
              "<pre style=\"white-space:pre;overflow-x:auto;line-height:normal;font-family:Menlo,'DejaVu Sans Mono',consolas,'Courier New',monospace\"><span style=\"font-weight: bold\"> Total params: </span><span style=\"color: #00af00; text-decoration-color: #00af00\">0</span> (0.00 B)\n",
              "</pre>\n"
            ]
          },
          "metadata": {}
        },
        {
          "output_type": "display_data",
          "data": {
            "text/plain": [
              "\u001b[1m Trainable params: \u001b[0m\u001b[38;5;34m0\u001b[0m (0.00 B)\n"
            ],
            "text/html": [
              "<pre style=\"white-space:pre;overflow-x:auto;line-height:normal;font-family:Menlo,'DejaVu Sans Mono',consolas,'Courier New',monospace\"><span style=\"font-weight: bold\"> Trainable params: </span><span style=\"color: #00af00; text-decoration-color: #00af00\">0</span> (0.00 B)\n",
              "</pre>\n"
            ]
          },
          "metadata": {}
        },
        {
          "output_type": "display_data",
          "data": {
            "text/plain": [
              "\u001b[1m Non-trainable params: \u001b[0m\u001b[38;5;34m0\u001b[0m (0.00 B)\n"
            ],
            "text/html": [
              "<pre style=\"white-space:pre;overflow-x:auto;line-height:normal;font-family:Menlo,'DejaVu Sans Mono',consolas,'Courier New',monospace\"><span style=\"font-weight: bold\"> Non-trainable params: </span><span style=\"color: #00af00; text-decoration-color: #00af00\">0</span> (0.00 B)\n",
              "</pre>\n"
            ]
          },
          "metadata": {}
        }
      ],
      "source": [
        "# Code regressor\n",
        "# Siapkan model Neural Network\n",
        "embedding_dim = 100  # Dimensi embedding\n",
        "\n",
        "model = Sequential([\n",
        "    Embedding(max_words, embedding_dim, input_length=max_len),\n",
        "    SpatialDropout1D(0.2),\n",
        "    LSTM(64, return_sequences=True),\n",
        "    LSTM(32),\n",
        "    Dense(32, activation='relu'),\n",
        "    Dropout(0.5),\n",
        "    Dense(3, activation='softmax')  # 3 kelas: Buruk, Sedang, Baik\n",
        "])\n",
        "\n",
        "# Kompilasi model\n",
        "model.compile(loss='categorical_crossentropy', optimizer='adam', metrics=['accuracy'])\n",
        "\n",
        "# Tampilkan ringkasan model\n",
        "model.summary()"
      ]
    },
    {
      "cell_type": "markdown",
      "metadata": {
        "id": "gWksqx7v2Toi"
      },
      "source": [
        "## 6) Training regressor pada dataset\n"
      ]
    },
    {
      "cell_type": "code",
      "execution_count": null,
      "metadata": {
        "colab": {
          "base_uri": "https://localhost:8080/"
        },
        "id": "RRBSnp8w2HI5",
        "outputId": "26e11cdd-fd4b-49a0-8bda-0dd45e1b82a5"
      },
      "outputs": [
        {
          "output_type": "stream",
          "name": "stdout",
          "text": [
            "Epoch 1/10\n",
            "\u001b[1m625/625\u001b[0m \u001b[32m━━━━━━━━━━━━━━━━━━━━\u001b[0m\u001b[37m\u001b[0m \u001b[1m222s\u001b[0m 347ms/step - accuracy: 0.5881 - loss: 0.8830 - val_accuracy: 0.7246 - val_loss: 0.6551\n",
            "Epoch 2/10\n",
            "\u001b[1m625/625\u001b[0m \u001b[32m━━━━━━━━━━━━━━━━━━━━\u001b[0m\u001b[37m\u001b[0m \u001b[1m214s\u001b[0m 343ms/step - accuracy: 0.7468 - loss: 0.6221 - val_accuracy: 0.7288 - val_loss: 0.6516\n",
            "Epoch 3/10\n",
            "\u001b[1m625/625\u001b[0m \u001b[32m━━━━━━━━━━━━━━━━━━━━\u001b[0m\u001b[37m\u001b[0m \u001b[1m260s\u001b[0m 339ms/step - accuracy: 0.7742 - loss: 0.5626 - val_accuracy: 0.7138 - val_loss: 0.6776\n",
            "Epoch 4/10\n",
            "\u001b[1m625/625\u001b[0m \u001b[32m━━━━━━━━━━━━━━━━━━━━\u001b[0m\u001b[37m\u001b[0m \u001b[1m262s\u001b[0m 340ms/step - accuracy: 0.7918 - loss: 0.5214 - val_accuracy: 0.7129 - val_loss: 0.7516\n",
            "Epoch 5/10\n",
            "\u001b[1m625/625\u001b[0m \u001b[32m━━━━━━━━━━━━━━━━━━━━\u001b[0m\u001b[37m\u001b[0m \u001b[1m264s\u001b[0m 343ms/step - accuracy: 0.8121 - loss: 0.4774 - val_accuracy: 0.7062 - val_loss: 0.7688\n",
            "Epoch 6/10\n",
            "\u001b[1m625/625\u001b[0m \u001b[32m━━━━━━━━━━━━━━━━━━━━\u001b[0m\u001b[37m\u001b[0m \u001b[1m263s\u001b[0m 345ms/step - accuracy: 0.8284 - loss: 0.4413 - val_accuracy: 0.6989 - val_loss: 0.8286\n",
            "Epoch 7/10\n",
            "\u001b[1m625/625\u001b[0m \u001b[32m━━━━━━━━━━━━━━━━━━━━\u001b[0m\u001b[37m\u001b[0m \u001b[1m262s\u001b[0m 345ms/step - accuracy: 0.8445 - loss: 0.4060 - val_accuracy: 0.6911 - val_loss: 0.8939\n",
            "Epoch 8/10\n",
            "\u001b[1m625/625\u001b[0m \u001b[32m━━━━━━━━━━━━━━━━━━━━\u001b[0m\u001b[37m\u001b[0m \u001b[1m262s\u001b[0m 345ms/step - accuracy: 0.8546 - loss: 0.3840 - val_accuracy: 0.6887 - val_loss: 0.9665\n",
            "Epoch 9/10\n",
            "\u001b[1m625/625\u001b[0m \u001b[32m━━━━━━━━━━━━━━━━━━━━\u001b[0m\u001b[37m\u001b[0m \u001b[1m262s\u001b[0m 345ms/step - accuracy: 0.8662 - loss: 0.3599 - val_accuracy: 0.6873 - val_loss: 1.0382\n",
            "Epoch 10/10\n",
            "\u001b[1m625/625\u001b[0m \u001b[32m━━━━━━━━━━━━━━━━━━━━\u001b[0m\u001b[37m\u001b[0m \u001b[1m216s\u001b[0m 345ms/step - accuracy: 0.8837 - loss: 0.3217 - val_accuracy: 0.6868 - val_loss: 1.0983\n"
          ]
        }
      ],
      "source": [
        "# Code training regressor pada dataset\n",
        "\n",
        "# Training model\n",
        "epochs = 10\n",
        "batch_size = 64\n",
        "\n",
        "history = model.fit(X_train, y_train, epochs=epochs, batch_size=batch_size,\n",
        "                    validation_data=(X_test, y_test), verbose=1)\n"
      ]
    },
    {
      "cell_type": "markdown",
      "metadata": {
        "id": "pakhjBTX2gVx"
      },
      "source": [
        "## 7) Lakukan pengujian dengan data uji (melakukan prediksi)\n",
        "\n"
      ]
    },
    {
      "cell_type": "code",
      "execution_count": null,
      "metadata": {
        "id": "mSfOIopo2rY3",
        "colab": {
          "base_uri": "https://localhost:8080/"
        },
        "outputId": "04cc1b15-14f1-4b4b-9f2d-e600e7af10b5"
      },
      "outputs": [
        {
          "output_type": "stream",
          "name": "stdout",
          "text": [
            "\u001b[1m313/313\u001b[0m \u001b[32m━━━━━━━━━━━━━━━━━━━━\u001b[0m\u001b[37m\u001b[0m \u001b[1m17s\u001b[0m 53ms/step\n"
          ]
        }
      ],
      "source": [
        "# Code pengujian (melakukan prediksi)\n",
        "\n",
        "# Prediksi pada data uji\n",
        "y_pred = model.predict(X_test)\n",
        "y_pred_classes = np.argmax(y_pred, axis=1)  # Konversi probabilitas ke kelas\n",
        "y_test_classes = np.argmax(y_test, axis=1)  # Konversi one-hot ke kelas\n"
      ]
    },
    {
      "cell_type": "code",
      "execution_count": null,
      "metadata": {
        "colab": {
          "base_uri": "https://localhost:8080/"
        },
        "id": "1NoJ5cDu3EyH",
        "outputId": "3a8e8c2b-ec2e-499b-9514-0128f8b121d0"
      },
      "outputs": [
        {
          "output_type": "stream",
          "name": "stdout",
          "text": [
            "Contoh Hasil Prediksi (10 data pertama):\n",
            "Review 1:\n",
            "Teks: Having read all of the comments on this film I am still amazed at Fox's reluctance to release a full...\n",
            "Sentimen (Biner): 1\n",
            "Prediksi: Baik\n",
            "Sebenarnya: Baik\n",
            "\n",
            "Review 2:\n",
            "Teks: I like this film a lot. It has a wonderful chemistry between the actors and tells a story that is pr...\n",
            "Sentimen (Biner): 1\n",
            "Prediksi: Baik\n",
            "Sebenarnya: Baik\n",
            "\n",
            "Review 3:\n",
            "Teks: I am a huge fan of Simon Pegg and have watched plenty of his movies until now and none of them have ...\n",
            "Sentimen (Biner): 1\n",
            "Prediksi: Baik\n",
            "Sebenarnya: Sedang\n",
            "\n",
            "Review 4:\n",
            "Teks: This was what black society was like before the crack epidemics, gangsta rap, and AIDS that beset th...\n",
            "Sentimen (Biner): 1\n",
            "Prediksi: Baik\n",
            "Sebenarnya: Baik\n",
            "\n",
            "Review 5:\n",
            "Teks: pretty disappointing. i was expecting more of a horror/thriller -- but this seemed to be more of an ...\n",
            "Sentimen (Biner): 0\n",
            "Prediksi: Sedang\n",
            "Sebenarnya: Buruk\n",
            "\n",
            "Review 6:\n",
            "Teks: As a flagship show, Attack of the Show (AOTS) is endemic of the larger fall of G4 TV; it is a show (...\n",
            "Sentimen (Biner): 0\n",
            "Prediksi: Sedang\n",
            "Sebenarnya: Buruk\n",
            "\n",
            "Review 7:\n",
            "Teks: Thomas Capano was not Anne Marie's boss Tom Carper, the Governor was. That is the reason the Feds be...\n",
            "Sentimen (Biner): 1\n",
            "Prediksi: Buruk\n",
            "Sebenarnya: Baik\n",
            "\n",
            "Review 8:\n",
            "Teks: Two escaped convicts step out of the woods and shoot two campers in the head. That's the first scene...\n",
            "Sentimen (Biner): 0\n",
            "Prediksi: Baik\n",
            "Sebenarnya: Buruk\n",
            "\n",
            "Review 9:\n",
            "Teks: I actually found this movie 'interesting'; finally one worth my time to watch and rent. It is true.....\n",
            "Sentimen (Biner): 1\n",
            "Prediksi: Baik\n",
            "Sebenarnya: Sedang\n",
            "\n",
            "Review 10:\n",
            "Teks: In my opinion this is the best Oliver Stone flick -- probably more because of Bogosian's influence t...\n",
            "Sentimen (Biner): 1\n",
            "Prediksi: Baik\n",
            "Sebenarnya: Baik\n",
            "\n",
            "Laporan Klasifikasi:\n",
            "              precision    recall  f1-score   support\n",
            "\n",
            "        Baik       0.71      0.85      0.78      4085\n",
            "       Buruk       0.79      0.71      0.75      3859\n",
            "      Sedang       0.40      0.32      0.36      2056\n",
            "\n",
            "    accuracy                           0.69     10000\n",
            "   macro avg       0.63      0.63      0.63     10000\n",
            "weighted avg       0.68      0.69      0.68     10000\n",
            "\n"
          ]
        }
      ],
      "source": [
        "# Tampilkan hasil prediksi\n",
        "print(\"Contoh Hasil Prediksi (10 data pertama):\")\n",
        "for i, idx in enumerate(test_indices[:10]):\n",
        "    print(f\"Review {i+1}:\")\n",
        "    print(f\"Teks: {df['Review'].iloc[idx][:100]}...\")\n",
        "    print(f\"Sentimen (Biner): {df['Sentiment'].iloc[idx]}\")\n",
        "    print(f\"Prediksi: {label_encoder.inverse_transform([y_pred_classes[i]])[0]}\")\n",
        "    print(f\"Sebenarnya: {label_encoder.inverse_transform([y_test_classes[i]])[0]}\")\n",
        "    print()\n",
        "\n",
        "# Tampilkan laporan klasifikasi\n",
        "print(\"Laporan Klasifikasi:\")\n",
        "print(classification_report(y_test_classes, y_pred_classes, target_names=label_encoder.classes_))"
      ]
    },
    {
      "cell_type": "markdown",
      "metadata": {
        "id": "ThYD_aVwwBex"
      },
      "source": [
        "## 8) Analisa performansi model"
      ]
    },
    {
      "cell_type": "markdown",
      "metadata": {
        "id": "ov369NjTwMFN"
      },
      "source": [
        "### a) Menggunakan Mean Absolute Error (MAE)"
      ]
    },
    {
      "cell_type": "code",
      "execution_count": null,
      "metadata": {
        "colab": {
          "base_uri": "https://localhost:8080/"
        },
        "id": "1at0is7PwSol",
        "outputId": "f17544d6-a3c0-4a94-b1f3-a4df8a3be15f"
      },
      "outputs": [
        {
          "output_type": "stream",
          "name": "stdout",
          "text": [
            "Mean Absolute Error (MAE): 0.4410\n"
          ]
        }
      ],
      "source": [
        "# Code analisa performansi menggunakan MAE\n",
        "\n",
        "from sklearn.metrics import mean_absolute_error\n",
        "\n",
        "# Hitung MAE\n",
        "mae = mean_absolute_error(y_test_classes, y_pred_classes)\n",
        "print(f\"Mean Absolute Error (MAE): {mae:.4f}\")"
      ]
    },
    {
      "cell_type": "markdown",
      "metadata": {
        "id": "BnfirVJowcYH"
      },
      "source": [
        "### b) Menggunakan Mean Squared Error (MSE)"
      ]
    },
    {
      "cell_type": "code",
      "execution_count": null,
      "metadata": {
        "colab": {
          "base_uri": "https://localhost:8080/"
        },
        "id": "Iw9cPcdzwg59",
        "outputId": "ef74aae4-c1f2-48e2-d5c4-186fb911d212"
      },
      "outputs": [
        {
          "output_type": "stream",
          "name": "stdout",
          "text": [
            "Mean Squared Error (MSE): 0.6966\n"
          ]
        }
      ],
      "source": [
        "# Code analisa performansi menggunakan MSE\n",
        "\n",
        "from sklearn.metrics import mean_squared_error\n",
        "\n",
        "# Hitung MSE\n",
        "mse = mean_squared_error(y_test_classes, y_pred_classes)\n",
        "print(f\"Mean Squared Error (MSE): {mse:.4f}\")"
      ]
    },
    {
      "cell_type": "markdown",
      "metadata": {
        "id": "t1NgleoocII7"
      },
      "source": [
        "### c) Menggunakan RMSE"
      ]
    },
    {
      "cell_type": "code",
      "execution_count": null,
      "metadata": {
        "colab": {
          "base_uri": "https://localhost:8080/"
        },
        "id": "wQ2IQFKIcMXc",
        "outputId": "57e92688-1239-4277-b780-ca590593d84b"
      },
      "outputs": [
        {
          "output_type": "stream",
          "name": "stdout",
          "text": [
            "Root Mean Squared Error (RMSE): 0.8346\n"
          ]
        }
      ],
      "source": [
        "# Code analisa performansi menggunakan RMSE\n",
        "\n",
        "from sklearn.metrics import mean_squared_error\n",
        "import numpy as np\n",
        "\n",
        "# Hitung RMSE\n",
        "rmse = np.sqrt(mean_squared_error(y_test_classes, y_pred_classes))\n",
        "print(f\"Root Mean Squared Error (RMSE): {rmse:.4f}\")"
      ]
    },
    {
      "cell_type": "markdown",
      "metadata": {
        "id": "snJ0tBkncPSS"
      },
      "source": [
        "### d) Menggunakan R squared"
      ]
    },
    {
      "cell_type": "code",
      "execution_count": null,
      "metadata": {
        "colab": {
          "base_uri": "https://localhost:8080/"
        },
        "id": "dovuXUClcTSk",
        "outputId": "b014b84b-f878-4527-e67c-14b5924e6608"
      },
      "outputs": [
        {
          "output_type": "stream",
          "name": "stdout",
          "text": [
            "R-squared (R²): -0.2159\n"
          ]
        }
      ],
      "source": [
        "# Code analisa performansi menggunakan R squared\n",
        "\n",
        "from sklearn.metrics import r2_score\n",
        "\n",
        "# Hitung R-squared\n",
        "r2 = r2_score(y_test_classes, y_pred_classes)\n",
        "print(f\"R-squared (R²): {r2:.4f}\")"
      ]
    },
    {
      "cell_type": "markdown",
      "metadata": {
        "id": "mPdbFPvvcXys"
      },
      "source": [
        "## 9) Kesimpulan sebelum HPO\n",
        "\n",
        " 1. Model Klasifikasi: Cukup Baik, Tapi Masih Perlu Peningkatan\n",
        "Akurasi model : 69%, dengan F1-score rata-rata 0.68.\n",
        "Performa terbaik pada kelas \"Baik\" dan \"Buruk\" , tetapi sangat lemah pada kelas \"Sedang\" (F1-score hanya 0.36).\n",
        "Model lebih cenderung memprediksi kelas mayoritas (\"Baik\" atau \"Buruk\"), menunjukkan kemungkinan adanya ketidakseimbangan data atau kurangnya pola jelas untuk kelas \"Sedang\".\n",
        "\n",
        " 2. Model Regresi: Tidak Berhasil\n",
        "R-squared negatif (-0.2159) → model gagal menjelaskan variasi target, bahkan lebih buruk dari rata-rata baseline.\n",
        "RMSE = 0.8346 dan MAE = 0.4410 → error cukup besar, terutama jika rentang target kecil (misalnya 0–1 atau 1–5).\n",
        "\n",
        " 3. Overfitting Jelas Terjadi Selama Pelatihan\n",
        "Akurasi training meningkat pesat hingga 88% , tapi validasi turun dari 72% ke 68% .\n",
        "Loss validasi meningkat drastis dari ~0.65 ke ~1.09, menandakan model gagal generalisasi.\n",
        "\n",
        "Kesimpulan Utama:\n",
        "Model klasifikasi saat ini masih layak dikembangkan , namun membutuhkan optimisasi lebih lanjut untuk meningkatkan performa, terutama pada kelas \"Sedang\".\n",
        "Model regresi tidak berhasil dan sebaiknya ditinjau ulang atau diganti dengan pendekatan klasifikasi saja.\n",
        "Dengan optimisasi hyperparameter dan penyempurnaan arsitektur/model, hasil dapat ditingkatkan secara signifikan.\n",
        "\n"
      ]
    },
    {
      "cell_type": "markdown",
      "metadata": {
        "id": "icO3Uz-Idftu"
      },
      "source": [
        "## 10) Optimasi: HPO dengan RandomizedSearchCV"
      ]
    },
    {
      "cell_type": "code",
      "execution_count": null,
      "metadata": {
        "colab": {
          "base_uri": "https://localhost:8080/",
          "height": 972
        },
        "id": "cTpdojmV2wSb",
        "outputId": "fb72445f-63e2-4305-e369-d2ca67ad7cd2"
      },
      "outputs": [
        {
          "output_type": "stream",
          "name": "stdout",
          "text": [
            "Requirement already satisfied: keras-tuner in /usr/local/lib/python3.11/dist-packages (1.4.7)\n",
            "Requirement already satisfied: keras in /usr/local/lib/python3.11/dist-packages (from keras-tuner) (3.8.0)\n",
            "Requirement already satisfied: packaging in /usr/local/lib/python3.11/dist-packages (from keras-tuner) (24.2)\n",
            "Requirement already satisfied: requests in /usr/local/lib/python3.11/dist-packages (from keras-tuner) (2.32.3)\n",
            "Requirement already satisfied: kt-legacy in /usr/local/lib/python3.11/dist-packages (from keras-tuner) (1.0.5)\n",
            "Requirement already satisfied: absl-py in /usr/local/lib/python3.11/dist-packages (from keras->keras-tuner) (1.4.0)\n",
            "Requirement already satisfied: numpy in /usr/local/lib/python3.11/dist-packages (from keras->keras-tuner) (2.0.2)\n",
            "Requirement already satisfied: rich in /usr/local/lib/python3.11/dist-packages (from keras->keras-tuner) (13.9.4)\n",
            "Requirement already satisfied: namex in /usr/local/lib/python3.11/dist-packages (from keras->keras-tuner) (0.0.9)\n",
            "Requirement already satisfied: h5py in /usr/local/lib/python3.11/dist-packages (from keras->keras-tuner) (3.13.0)\n",
            "Requirement already satisfied: optree in /usr/local/lib/python3.11/dist-packages (from keras->keras-tuner) (0.15.0)\n",
            "Requirement already satisfied: ml-dtypes in /usr/local/lib/python3.11/dist-packages (from keras->keras-tuner) (0.4.1)\n",
            "Requirement already satisfied: charset-normalizer<4,>=2 in /usr/local/lib/python3.11/dist-packages (from requests->keras-tuner) (3.4.2)\n",
            "Requirement already satisfied: idna<4,>=2.5 in /usr/local/lib/python3.11/dist-packages (from requests->keras-tuner) (3.10)\n",
            "Requirement already satisfied: urllib3<3,>=1.21.1 in /usr/local/lib/python3.11/dist-packages (from requests->keras-tuner) (2.4.0)\n",
            "Requirement already satisfied: certifi>=2017.4.17 in /usr/local/lib/python3.11/dist-packages (from requests->keras-tuner) (2025.4.26)\n",
            "Requirement already satisfied: typing-extensions>=4.5.0 in /usr/local/lib/python3.11/dist-packages (from optree->keras->keras-tuner) (4.13.2)\n",
            "Requirement already satisfied: markdown-it-py>=2.2.0 in /usr/local/lib/python3.11/dist-packages (from rich->keras->keras-tuner) (3.0.0)\n",
            "Requirement already satisfied: pygments<3.0.0,>=2.13.0 in /usr/local/lib/python3.11/dist-packages (from rich->keras->keras-tuner) (2.19.1)\n",
            "Requirement already satisfied: mdurl~=0.1 in /usr/local/lib/python3.11/dist-packages (from markdown-it-py>=2.2.0->rich->keras->keras-tuner) (0.1.2)\n",
            "Reloading Tuner from hpo_dir/imdb_sentiment/tuner0.json\n",
            "Hyperparameter Terbaik:\n",
            "- LSTM Units 1: 64\n",
            "- LSTM Units 2: 64\n",
            "- Dense Units: 16\n",
            "- Spatial Dropout: 0.40\n",
            "- Dropout: 0.40\n",
            "- Learning Rate: 0.000185\n"
          ]
        },
        {
          "output_type": "stream",
          "name": "stderr",
          "text": [
            "/usr/local/lib/python3.11/dist-packages/keras/src/layers/core/embedding.py:90: UserWarning: Argument `input_length` is deprecated. Just remove it.\n",
            "  warnings.warn(\n",
            "/usr/local/lib/python3.11/dist-packages/keras/src/saving/saving_lib.py:757: UserWarning: Skipping variable loading for optimizer 'adam', because it has 2 variables whereas the saved optimizer has 24 variables. \n",
            "  saveable.load_own_variables(weights_store.get(inner_path))\n"
          ]
        },
        {
          "output_type": "display_data",
          "data": {
            "text/plain": [
              "\u001b[1mModel: \"sequential\"\u001b[0m\n"
            ],
            "text/html": [
              "<pre style=\"white-space:pre;overflow-x:auto;line-height:normal;font-family:Menlo,'DejaVu Sans Mono',consolas,'Courier New',monospace\"><span style=\"font-weight: bold\">Model: \"sequential\"</span>\n",
              "</pre>\n"
            ]
          },
          "metadata": {}
        },
        {
          "output_type": "display_data",
          "data": {
            "text/plain": [
              "┏━━━━━━━━━━━━━━━━━━━━━━━━━━━━━━━━━┳━━━━━━━━━━━━━━━━━━━━━━━━┳━━━━━━━━━━━━━━━┓\n",
              "┃\u001b[1m \u001b[0m\u001b[1mLayer (type)                   \u001b[0m\u001b[1m \u001b[0m┃\u001b[1m \u001b[0m\u001b[1mOutput Shape          \u001b[0m\u001b[1m \u001b[0m┃\u001b[1m \u001b[0m\u001b[1m      Param #\u001b[0m\u001b[1m \u001b[0m┃\n",
              "┡━━━━━━━━━━━━━━━━━━━━━━━━━━━━━━━━━╇━━━━━━━━━━━━━━━━━━━━━━━━╇━━━━━━━━━━━━━━━┩\n",
              "│ embedding (\u001b[38;5;33mEmbedding\u001b[0m)           │ (\u001b[38;5;34m32\u001b[0m, \u001b[38;5;34m200\u001b[0m, \u001b[38;5;34m100\u001b[0m)         │       \u001b[38;5;34m500,000\u001b[0m │\n",
              "├─────────────────────────────────┼────────────────────────┼───────────────┤\n",
              "│ spatial_dropout1d               │ (\u001b[38;5;34m32\u001b[0m, \u001b[38;5;34m200\u001b[0m, \u001b[38;5;34m100\u001b[0m)         │             \u001b[38;5;34m0\u001b[0m │\n",
              "│ (\u001b[38;5;33mSpatialDropout1D\u001b[0m)              │                        │               │\n",
              "├─────────────────────────────────┼────────────────────────┼───────────────┤\n",
              "│ lstm (\u001b[38;5;33mLSTM\u001b[0m)                     │ (\u001b[38;5;34m32\u001b[0m, \u001b[38;5;34m200\u001b[0m, \u001b[38;5;34m64\u001b[0m)          │        \u001b[38;5;34m42,240\u001b[0m │\n",
              "├─────────────────────────────────┼────────────────────────┼───────────────┤\n",
              "│ lstm_1 (\u001b[38;5;33mLSTM\u001b[0m)                   │ (\u001b[38;5;34m32\u001b[0m, \u001b[38;5;34m64\u001b[0m)               │        \u001b[38;5;34m33,024\u001b[0m │\n",
              "├─────────────────────────────────┼────────────────────────┼───────────────┤\n",
              "│ dense (\u001b[38;5;33mDense\u001b[0m)                   │ (\u001b[38;5;34m32\u001b[0m, \u001b[38;5;34m16\u001b[0m)               │         \u001b[38;5;34m1,040\u001b[0m │\n",
              "├─────────────────────────────────┼────────────────────────┼───────────────┤\n",
              "│ dropout (\u001b[38;5;33mDropout\u001b[0m)               │ (\u001b[38;5;34m32\u001b[0m, \u001b[38;5;34m16\u001b[0m)               │             \u001b[38;5;34m0\u001b[0m │\n",
              "├─────────────────────────────────┼────────────────────────┼───────────────┤\n",
              "│ dense_1 (\u001b[38;5;33mDense\u001b[0m)                 │ (\u001b[38;5;34m32\u001b[0m, \u001b[38;5;34m3\u001b[0m)                │            \u001b[38;5;34m51\u001b[0m │\n",
              "└─────────────────────────────────┴────────────────────────┴───────────────┘\n"
            ],
            "text/html": [
              "<pre style=\"white-space:pre;overflow-x:auto;line-height:normal;font-family:Menlo,'DejaVu Sans Mono',consolas,'Courier New',monospace\">┏━━━━━━━━━━━━━━━━━━━━━━━━━━━━━━━━━┳━━━━━━━━━━━━━━━━━━━━━━━━┳━━━━━━━━━━━━━━━┓\n",
              "┃<span style=\"font-weight: bold\"> Layer (type)                    </span>┃<span style=\"font-weight: bold\"> Output Shape           </span>┃<span style=\"font-weight: bold\">       Param # </span>┃\n",
              "┡━━━━━━━━━━━━━━━━━━━━━━━━━━━━━━━━━╇━━━━━━━━━━━━━━━━━━━━━━━━╇━━━━━━━━━━━━━━━┩\n",
              "│ embedding (<span style=\"color: #0087ff; text-decoration-color: #0087ff\">Embedding</span>)           │ (<span style=\"color: #00af00; text-decoration-color: #00af00\">32</span>, <span style=\"color: #00af00; text-decoration-color: #00af00\">200</span>, <span style=\"color: #00af00; text-decoration-color: #00af00\">100</span>)         │       <span style=\"color: #00af00; text-decoration-color: #00af00\">500,000</span> │\n",
              "├─────────────────────────────────┼────────────────────────┼───────────────┤\n",
              "│ spatial_dropout1d               │ (<span style=\"color: #00af00; text-decoration-color: #00af00\">32</span>, <span style=\"color: #00af00; text-decoration-color: #00af00\">200</span>, <span style=\"color: #00af00; text-decoration-color: #00af00\">100</span>)         │             <span style=\"color: #00af00; text-decoration-color: #00af00\">0</span> │\n",
              "│ (<span style=\"color: #0087ff; text-decoration-color: #0087ff\">SpatialDropout1D</span>)              │                        │               │\n",
              "├─────────────────────────────────┼────────────────────────┼───────────────┤\n",
              "│ lstm (<span style=\"color: #0087ff; text-decoration-color: #0087ff\">LSTM</span>)                     │ (<span style=\"color: #00af00; text-decoration-color: #00af00\">32</span>, <span style=\"color: #00af00; text-decoration-color: #00af00\">200</span>, <span style=\"color: #00af00; text-decoration-color: #00af00\">64</span>)          │        <span style=\"color: #00af00; text-decoration-color: #00af00\">42,240</span> │\n",
              "├─────────────────────────────────┼────────────────────────┼───────────────┤\n",
              "│ lstm_1 (<span style=\"color: #0087ff; text-decoration-color: #0087ff\">LSTM</span>)                   │ (<span style=\"color: #00af00; text-decoration-color: #00af00\">32</span>, <span style=\"color: #00af00; text-decoration-color: #00af00\">64</span>)               │        <span style=\"color: #00af00; text-decoration-color: #00af00\">33,024</span> │\n",
              "├─────────────────────────────────┼────────────────────────┼───────────────┤\n",
              "│ dense (<span style=\"color: #0087ff; text-decoration-color: #0087ff\">Dense</span>)                   │ (<span style=\"color: #00af00; text-decoration-color: #00af00\">32</span>, <span style=\"color: #00af00; text-decoration-color: #00af00\">16</span>)               │         <span style=\"color: #00af00; text-decoration-color: #00af00\">1,040</span> │\n",
              "├─────────────────────────────────┼────────────────────────┼───────────────┤\n",
              "│ dropout (<span style=\"color: #0087ff; text-decoration-color: #0087ff\">Dropout</span>)               │ (<span style=\"color: #00af00; text-decoration-color: #00af00\">32</span>, <span style=\"color: #00af00; text-decoration-color: #00af00\">16</span>)               │             <span style=\"color: #00af00; text-decoration-color: #00af00\">0</span> │\n",
              "├─────────────────────────────────┼────────────────────────┼───────────────┤\n",
              "│ dense_1 (<span style=\"color: #0087ff; text-decoration-color: #0087ff\">Dense</span>)                 │ (<span style=\"color: #00af00; text-decoration-color: #00af00\">32</span>, <span style=\"color: #00af00; text-decoration-color: #00af00\">3</span>)                │            <span style=\"color: #00af00; text-decoration-color: #00af00\">51</span> │\n",
              "└─────────────────────────────────┴────────────────────────┴───────────────┘\n",
              "</pre>\n"
            ]
          },
          "metadata": {}
        },
        {
          "output_type": "display_data",
          "data": {
            "text/plain": [
              "\u001b[1m Total params: \u001b[0m\u001b[38;5;34m576,355\u001b[0m (2.20 MB)\n"
            ],
            "text/html": [
              "<pre style=\"white-space:pre;overflow-x:auto;line-height:normal;font-family:Menlo,'DejaVu Sans Mono',consolas,'Courier New',monospace\"><span style=\"font-weight: bold\"> Total params: </span><span style=\"color: #00af00; text-decoration-color: #00af00\">576,355</span> (2.20 MB)\n",
              "</pre>\n"
            ]
          },
          "metadata": {}
        },
        {
          "output_type": "display_data",
          "data": {
            "text/plain": [
              "\u001b[1m Trainable params: \u001b[0m\u001b[38;5;34m576,355\u001b[0m (2.20 MB)\n"
            ],
            "text/html": [
              "<pre style=\"white-space:pre;overflow-x:auto;line-height:normal;font-family:Menlo,'DejaVu Sans Mono',consolas,'Courier New',monospace\"><span style=\"font-weight: bold\"> Trainable params: </span><span style=\"color: #00af00; text-decoration-color: #00af00\">576,355</span> (2.20 MB)\n",
              "</pre>\n"
            ]
          },
          "metadata": {}
        },
        {
          "output_type": "display_data",
          "data": {
            "text/plain": [
              "\u001b[1m Non-trainable params: \u001b[0m\u001b[38;5;34m0\u001b[0m (0.00 B)\n"
            ],
            "text/html": [
              "<pre style=\"white-space:pre;overflow-x:auto;line-height:normal;font-family:Menlo,'DejaVu Sans Mono',consolas,'Courier New',monospace\"><span style=\"font-weight: bold\"> Non-trainable params: </span><span style=\"color: #00af00; text-decoration-color: #00af00\">0</span> (0.00 B)\n",
              "</pre>\n"
            ]
          },
          "metadata": {}
        }
      ],
      "source": [
        "# kode Optimasi: HPO dengan RandomizedSearchCV\n",
        "\n",
        "!pip install keras-tuner\n",
        "import keras_tuner as kt\n",
        "import tensorflow as tf # Pastikan tensorflow diimpor karena digunakan di dalam build_model\n",
        "from tensorflow.keras.models import Sequential\n",
        "from tensorflow.keras.layers import Dense, Embedding, LSTM, SpatialDropout1D, Dropout\n",
        "\n",
        "# Definisikan fungsi untuk membangun model dengan hyperparameter\n",
        "def build_model(hp):\n",
        "    model = Sequential()\n",
        "    model.add(Embedding(max_words, embedding_dim, input_length=max_len))\n",
        "    model.add(SpatialDropout1D(hp.Float('spatial_dropout', min_value=0.1, max_value=0.5, step=0.1)))\n",
        "    model.add(LSTM(units=hp.Int('lstm_units_1', min_value=32, max_value=128, step=32), return_sequences=True))\n",
        "    model.add(LSTM(units=hp.Int('lstm_units_2', min_value=16, max_value=64, step=16)))\n",
        "    model.add(Dense(units=hp.Int('dense_units', min_value=16, max_value=64, step=16), activation='relu'))\n",
        "    model.add(Dropout(hp.Float('dropout', min_value=0.2, max_value=0.5, step=0.1)))\n",
        "    model.add(Dense(3, activation='softmax'))\n",
        "\n",
        "    # Kompilasi model dengan learning rate yang dioptimasi\n",
        "    model.compile(\n",
        "        optimizer=tf.keras.optimizers.Adam(\n",
        "            learning_rate=hp.Float('learning_rate', min_value=1e-4, max_value=1e-2, sampling='log')\n",
        "        ),\n",
        "        loss='categorical_crossentropy',\n",
        "        metrics=['accuracy']\n",
        "    )\n",
        "    return model\n",
        "\n",
        "# Inisialisasi tuner\n",
        "tuner = kt.RandomSearch(\n",
        "    build_model,\n",
        "    objective='val_accuracy',\n",
        "    max_trials=5,  # Jumlah kombinasi hyperparameter yang akan dicoba\n",
        "    executions_per_trial=1,  # Jumlah eksekusi per kombinasi\n",
        "    directory='hpo_dir',\n",
        "    project_name='imdb_sentiment'\n",
        ")\n",
        "\n",
        "# Jalankan pencarian hyperparameter\n",
        "# Pastikan X_train, y_train, X_test, y_test, max_words, embedding_dim, dan max_len sudah didefinisikan\n",
        "# dari sel-sel sebelumnya.\n",
        "tuner.search(X_train, y_train, epochs=5, validation_data=(X_test, y_test), verbose=1)\n",
        "\n",
        "# Dapatkan model terbaik\n",
        "best_model = tuner.get_best_models(num_models=1)[0]\n",
        "# Hapus num_models=1 dari get_best_hyperparameters\n",
        "best_hyperparameters = tuner.get_best_hyperparameters()[0]\n",
        "\n",
        "# Tampilkan hyperparameter terbaik\n",
        "print(\"Hyperparameter Terbaik:\")\n",
        "print(f\"- LSTM Units 1: {best_hyperparameters.get('lstm_units_1')}\")\n",
        "print(f\"- LSTM Units 2: {best_hyperparameters.get('lstm_units_2')}\")\n",
        "print(f\"- Dense Units: {best_hyperparameters.get('dense_units')}\")\n",
        "print(f\"- Spatial Dropout: {best_hyperparameters.get('spatial_dropout'):.2f}\")\n",
        "print(f\"- Dropout: {best_hyperparameters.get('dropout'):.2f}\")\n",
        "print(f\"- Learning Rate: {best_hyperparameters.get('learning_rate'):.6f}\")\n",
        "\n",
        "# Ringkasan model terbaik\n",
        "best_model.summary()"
      ]
    },
    {
      "cell_type": "markdown",
      "metadata": {
        "id": "m33l2T9ydnFL"
      },
      "source": [
        "## 11) Implementasi best parameter pada model\n",
        "\n",
        "Siapkan regressor ke 2 dan tentukan variabel/parameternya"
      ]
    },
    {
      "cell_type": "code",
      "execution_count": null,
      "metadata": {
        "id": "LNQE5SMHdnFM",
        "colab": {
          "base_uri": "https://localhost:8080/",
          "height": 398
        },
        "outputId": "de9a8ce1-b583-4050-fc01-456168076ed5"
      },
      "outputs": [
        {
          "output_type": "stream",
          "name": "stdout",
          "text": [
            "Ringkasan Regressor Ke-2:\n"
          ]
        },
        {
          "output_type": "display_data",
          "data": {
            "text/plain": [
              "\u001b[1mModel: \"sequential_1\"\u001b[0m\n"
            ],
            "text/html": [
              "<pre style=\"white-space:pre;overflow-x:auto;line-height:normal;font-family:Menlo,'DejaVu Sans Mono',consolas,'Courier New',monospace\"><span style=\"font-weight: bold\">Model: \"sequential_1\"</span>\n",
              "</pre>\n"
            ]
          },
          "metadata": {}
        },
        {
          "output_type": "display_data",
          "data": {
            "text/plain": [
              "┏━━━━━━━━━━━━━━━━━━━━━━━━━━━━━━━━━┳━━━━━━━━━━━━━━━━━━━━━━━━┳━━━━━━━━━━━━━━━┓\n",
              "┃\u001b[1m \u001b[0m\u001b[1mLayer (type)                   \u001b[0m\u001b[1m \u001b[0m┃\u001b[1m \u001b[0m\u001b[1mOutput Shape          \u001b[0m\u001b[1m \u001b[0m┃\u001b[1m \u001b[0m\u001b[1m      Param #\u001b[0m\u001b[1m \u001b[0m┃\n",
              "┡━━━━━━━━━━━━━━━━━━━━━━━━━━━━━━━━━╇━━━━━━━━━━━━━━━━━━━━━━━━╇━━━━━━━━━━━━━━━┩\n",
              "│ embedding_1 (\u001b[38;5;33mEmbedding\u001b[0m)         │ ?                      │   \u001b[38;5;34m0\u001b[0m (unbuilt) │\n",
              "├─────────────────────────────────┼────────────────────────┼───────────────┤\n",
              "│ spatial_dropout1d_1             │ ?                      │             \u001b[38;5;34m0\u001b[0m │\n",
              "│ (\u001b[38;5;33mSpatialDropout1D\u001b[0m)              │                        │               │\n",
              "├─────────────────────────────────┼────────────────────────┼───────────────┤\n",
              "│ lstm_2 (\u001b[38;5;33mLSTM\u001b[0m)                   │ ?                      │   \u001b[38;5;34m0\u001b[0m (unbuilt) │\n",
              "├─────────────────────────────────┼────────────────────────┼───────────────┤\n",
              "│ lstm_3 (\u001b[38;5;33mLSTM\u001b[0m)                   │ ?                      │   \u001b[38;5;34m0\u001b[0m (unbuilt) │\n",
              "├─────────────────────────────────┼────────────────────────┼───────────────┤\n",
              "│ dense_2 (\u001b[38;5;33mDense\u001b[0m)                 │ ?                      │   \u001b[38;5;34m0\u001b[0m (unbuilt) │\n",
              "├─────────────────────────────────┼────────────────────────┼───────────────┤\n",
              "│ dropout_1 (\u001b[38;5;33mDropout\u001b[0m)             │ ?                      │             \u001b[38;5;34m0\u001b[0m │\n",
              "├─────────────────────────────────┼────────────────────────┼───────────────┤\n",
              "│ dense_3 (\u001b[38;5;33mDense\u001b[0m)                 │ ?                      │   \u001b[38;5;34m0\u001b[0m (unbuilt) │\n",
              "└─────────────────────────────────┴────────────────────────┴───────────────┘\n"
            ],
            "text/html": [
              "<pre style=\"white-space:pre;overflow-x:auto;line-height:normal;font-family:Menlo,'DejaVu Sans Mono',consolas,'Courier New',monospace\">┏━━━━━━━━━━━━━━━━━━━━━━━━━━━━━━━━━┳━━━━━━━━━━━━━━━━━━━━━━━━┳━━━━━━━━━━━━━━━┓\n",
              "┃<span style=\"font-weight: bold\"> Layer (type)                    </span>┃<span style=\"font-weight: bold\"> Output Shape           </span>┃<span style=\"font-weight: bold\">       Param # </span>┃\n",
              "┡━━━━━━━━━━━━━━━━━━━━━━━━━━━━━━━━━╇━━━━━━━━━━━━━━━━━━━━━━━━╇━━━━━━━━━━━━━━━┩\n",
              "│ embedding_1 (<span style=\"color: #0087ff; text-decoration-color: #0087ff\">Embedding</span>)         │ ?                      │   <span style=\"color: #00af00; text-decoration-color: #00af00\">0</span> (unbuilt) │\n",
              "├─────────────────────────────────┼────────────────────────┼───────────────┤\n",
              "│ spatial_dropout1d_1             │ ?                      │             <span style=\"color: #00af00; text-decoration-color: #00af00\">0</span> │\n",
              "│ (<span style=\"color: #0087ff; text-decoration-color: #0087ff\">SpatialDropout1D</span>)              │                        │               │\n",
              "├─────────────────────────────────┼────────────────────────┼───────────────┤\n",
              "│ lstm_2 (<span style=\"color: #0087ff; text-decoration-color: #0087ff\">LSTM</span>)                   │ ?                      │   <span style=\"color: #00af00; text-decoration-color: #00af00\">0</span> (unbuilt) │\n",
              "├─────────────────────────────────┼────────────────────────┼───────────────┤\n",
              "│ lstm_3 (<span style=\"color: #0087ff; text-decoration-color: #0087ff\">LSTM</span>)                   │ ?                      │   <span style=\"color: #00af00; text-decoration-color: #00af00\">0</span> (unbuilt) │\n",
              "├─────────────────────────────────┼────────────────────────┼───────────────┤\n",
              "│ dense_2 (<span style=\"color: #0087ff; text-decoration-color: #0087ff\">Dense</span>)                 │ ?                      │   <span style=\"color: #00af00; text-decoration-color: #00af00\">0</span> (unbuilt) │\n",
              "├─────────────────────────────────┼────────────────────────┼───────────────┤\n",
              "│ dropout_1 (<span style=\"color: #0087ff; text-decoration-color: #0087ff\">Dropout</span>)             │ ?                      │             <span style=\"color: #00af00; text-decoration-color: #00af00\">0</span> │\n",
              "├─────────────────────────────────┼────────────────────────┼───────────────┤\n",
              "│ dense_3 (<span style=\"color: #0087ff; text-decoration-color: #0087ff\">Dense</span>)                 │ ?                      │   <span style=\"color: #00af00; text-decoration-color: #00af00\">0</span> (unbuilt) │\n",
              "└─────────────────────────────────┴────────────────────────┴───────────────┘\n",
              "</pre>\n"
            ]
          },
          "metadata": {}
        },
        {
          "output_type": "display_data",
          "data": {
            "text/plain": [
              "\u001b[1m Total params: \u001b[0m\u001b[38;5;34m0\u001b[0m (0.00 B)\n"
            ],
            "text/html": [
              "<pre style=\"white-space:pre;overflow-x:auto;line-height:normal;font-family:Menlo,'DejaVu Sans Mono',consolas,'Courier New',monospace\"><span style=\"font-weight: bold\"> Total params: </span><span style=\"color: #00af00; text-decoration-color: #00af00\">0</span> (0.00 B)\n",
              "</pre>\n"
            ]
          },
          "metadata": {}
        },
        {
          "output_type": "display_data",
          "data": {
            "text/plain": [
              "\u001b[1m Trainable params: \u001b[0m\u001b[38;5;34m0\u001b[0m (0.00 B)\n"
            ],
            "text/html": [
              "<pre style=\"white-space:pre;overflow-x:auto;line-height:normal;font-family:Menlo,'DejaVu Sans Mono',consolas,'Courier New',monospace\"><span style=\"font-weight: bold\"> Trainable params: </span><span style=\"color: #00af00; text-decoration-color: #00af00\">0</span> (0.00 B)\n",
              "</pre>\n"
            ]
          },
          "metadata": {}
        },
        {
          "output_type": "display_data",
          "data": {
            "text/plain": [
              "\u001b[1m Non-trainable params: \u001b[0m\u001b[38;5;34m0\u001b[0m (0.00 B)\n"
            ],
            "text/html": [
              "<pre style=\"white-space:pre;overflow-x:auto;line-height:normal;font-family:Menlo,'DejaVu Sans Mono',consolas,'Courier New',monospace\"><span style=\"font-weight: bold\"> Non-trainable params: </span><span style=\"color: #00af00; text-decoration-color: #00af00\">0</span> (0.00 B)\n",
              "</pre>\n"
            ]
          },
          "metadata": {}
        }
      ],
      "source": [
        "# Code untuk regressor ke 2\n",
        "\n",
        "import tensorflow as tf\n",
        "from tensorflow.keras.models import Sequential\n",
        "from tensorflow.keras.layers import Embedding, SpatialDropout1D, LSTM, Dense, Dropout\n",
        "\n",
        "# Ambil hyperparameter terbaik dari HPO\n",
        "lstm_units_1 = best_hyperparameters.get('lstm_units_1')\n",
        "lstm_units_2 = best_hyperparameters.get('lstm_units_2')\n",
        "dense_units = best_hyperparameters.get('dense_units')\n",
        "spatial_dropout = best_hyperparameters.get('spatial_dropout')\n",
        "dropout = best_hyperparameters.get('dropout')\n",
        "learning_rate = best_hyperparameters.get('learning_rate')\n",
        "\n",
        "# Siapkan regressor ke-2 dengan hyperparameter terbaik\n",
        "model_2 = Sequential([\n",
        "    Embedding(max_words, embedding_dim, input_length=max_len),\n",
        "    SpatialDropout1D(spatial_dropout),\n",
        "    LSTM(lstm_units_1, return_sequences=True),\n",
        "    LSTM(lstm_units_2),\n",
        "    Dense(dense_units, activation='relu'),\n",
        "    Dropout(dropout),\n",
        "    Dense(3, activation='softmax')  # 3 kelas: Buruk, Sedang, Baik\n",
        "])\n",
        "\n",
        "# Kompilasi model\n",
        "model_2.compile(\n",
        "    optimizer=tf.keras.optimizers.Adam(learning_rate=learning_rate),\n",
        "    loss='categorical_crossentropy',\n",
        "    metrics=['accuracy']\n",
        ")\n",
        "\n",
        "# Tampilkan ringkasan model\n",
        "print(\"Ringkasan Regressor Ke-2:\")\n",
        "model_2.summary()\n"
      ]
    },
    {
      "cell_type": "markdown",
      "metadata": {
        "id": "lu3HOsSUdugF"
      },
      "source": [
        "## 12) Lakukan proses training dengan data latih"
      ]
    },
    {
      "cell_type": "code",
      "execution_count": null,
      "metadata": {
        "id": "BuqdbW-qdugG",
        "colab": {
          "base_uri": "https://localhost:8080/"
        },
        "outputId": "4e66c1df-b83b-4ab8-8053-13f3a71fab63"
      },
      "outputs": [
        {
          "output_type": "stream",
          "name": "stdout",
          "text": [
            "Epoch 1/10\n",
            "\u001b[1m625/625\u001b[0m \u001b[32m━━━━━━━━━━━━━━━━━━━━\u001b[0m\u001b[37m\u001b[0m \u001b[1m254s\u001b[0m 394ms/step - accuracy: 0.4936 - loss: 0.9943 - val_accuracy: 0.7068 - val_loss: 0.6847\n",
            "Epoch 2/10\n",
            "\u001b[1m625/625\u001b[0m \u001b[32m━━━━━━━━━━━━━━━━━━━━\u001b[0m\u001b[37m\u001b[0m \u001b[1m261s\u001b[0m 393ms/step - accuracy: 0.7178 - loss: 0.6896 - val_accuracy: 0.7287 - val_loss: 0.6493\n",
            "Epoch 3/10\n",
            "\u001b[1m625/625\u001b[0m \u001b[32m━━━━━━━━━━━━━━━━━━━━\u001b[0m\u001b[37m\u001b[0m \u001b[1m259s\u001b[0m 387ms/step - accuracy: 0.7460 - loss: 0.6291 - val_accuracy: 0.7352 - val_loss: 0.6360\n",
            "Epoch 4/10\n",
            "\u001b[1m625/625\u001b[0m \u001b[32m━━━━━━━━━━━━━━━━━━━━\u001b[0m\u001b[37m\u001b[0m \u001b[1m245s\u001b[0m 392ms/step - accuracy: 0.7582 - loss: 0.5941 - val_accuracy: 0.7272 - val_loss: 0.6473\n",
            "Epoch 5/10\n",
            "\u001b[1m625/625\u001b[0m \u001b[32m━━━━━━━━━━━━━━━━━━━━\u001b[0m\u001b[37m\u001b[0m \u001b[1m262s\u001b[0m 392ms/step - accuracy: 0.7708 - loss: 0.5724 - val_accuracy: 0.7264 - val_loss: 0.6580\n",
            "Epoch 6/10\n",
            "\u001b[1m625/625\u001b[0m \u001b[32m━━━━━━━━━━━━━━━━━━━━\u001b[0m\u001b[37m\u001b[0m \u001b[1m263s\u001b[0m 394ms/step - accuracy: 0.7747 - loss: 0.5572 - val_accuracy: 0.7310 - val_loss: 0.6628\n",
            "Epoch 7/10\n",
            "\u001b[1m625/625\u001b[0m \u001b[32m━━━━━━━━━━━━━━━━━━━━\u001b[0m\u001b[37m\u001b[0m \u001b[1m264s\u001b[0m 398ms/step - accuracy: 0.7838 - loss: 0.5389 - val_accuracy: 0.7217 - val_loss: 0.6744\n",
            "Epoch 8/10\n",
            "\u001b[1m625/625\u001b[0m \u001b[32m━━━━━━━━━━━━━━━━━━━━\u001b[0m\u001b[37m\u001b[0m \u001b[1m260s\u001b[0m 395ms/step - accuracy: 0.7909 - loss: 0.5267 - val_accuracy: 0.7217 - val_loss: 0.6863\n",
            "Epoch 9/10\n",
            "\u001b[1m625/625\u001b[0m \u001b[32m━━━━━━━━━━━━━━━━━━━━\u001b[0m\u001b[37m\u001b[0m \u001b[1m261s\u001b[0m 393ms/step - accuracy: 0.7919 - loss: 0.5155 - val_accuracy: 0.7239 - val_loss: 0.6910\n",
            "Epoch 10/10\n",
            "\u001b[1m625/625\u001b[0m \u001b[32m━━━━━━━━━━━━━━━━━━━━\u001b[0m\u001b[37m\u001b[0m \u001b[1m265s\u001b[0m 398ms/step - accuracy: 0.8017 - loss: 0.5007 - val_accuracy: 0.7226 - val_loss: 0.6924\n"
          ]
        }
      ],
      "source": [
        "# Code training pada regressor ke 2\n",
        "\n",
        "# Training regressor ke-2\n",
        "epochs = 10  # Menggunakan jumlah epoch yang sama dengan model awal untuk konsistensi\n",
        "batch_size = 64  # Menggunakan batch size yang sama dengan model awal\n",
        "\n",
        "history_2 = model_2.fit(\n",
        "    X_train, y_train,\n",
        "    epochs=epochs,\n",
        "    batch_size=batch_size,\n",
        "    validation_data=(X_test, y_test),\n",
        "    verbose=1\n",
        ")"
      ]
    },
    {
      "cell_type": "markdown",
      "metadata": {
        "id": "ESbEdW3Sd0Ph"
      },
      "source": [
        "## 13) Lakukan pengujian dengan data uji"
      ]
    },
    {
      "cell_type": "code",
      "execution_count": null,
      "metadata": {
        "id": "CCAYUoaUd0Pi",
        "colab": {
          "base_uri": "https://localhost:8080/"
        },
        "outputId": "88a0ba11-eefa-4a99-8168-0db8a9eb29b7"
      },
      "outputs": [
        {
          "output_type": "stream",
          "name": "stdout",
          "text": [
            "\u001b[1m313/313\u001b[0m \u001b[32m━━━━━━━━━━━━━━━━━━━━\u001b[0m\u001b[37m\u001b[0m \u001b[1m24s\u001b[0m 73ms/step\n",
            "Contoh Hasil Prediksi Regressor Ke-2 (10 data pertama):\n",
            "Review 1:\n",
            "Teks: Having read all of the comments on this film I am still amazed at Fox's reluctance to release a full...\n",
            "Sentimen (Biner): 1\n",
            "Prediksi: Baik\n",
            "Sebenarnya: Baik\n",
            "\n",
            "Review 2:\n",
            "Teks: I like this film a lot. It has a wonderful chemistry between the actors and tells a story that is pr...\n",
            "Sentimen (Biner): 1\n",
            "Prediksi: Baik\n",
            "Sebenarnya: Baik\n",
            "\n",
            "Review 3:\n",
            "Teks: I am a huge fan of Simon Pegg and have watched plenty of his movies until now and none of them have ...\n",
            "Sentimen (Biner): 1\n",
            "Prediksi: Buruk\n",
            "Sebenarnya: Sedang\n",
            "\n",
            "Review 4:\n",
            "Teks: This was what black society was like before the crack epidemics, gangsta rap, and AIDS that beset th...\n",
            "Sentimen (Biner): 1\n",
            "Prediksi: Baik\n",
            "Sebenarnya: Baik\n",
            "\n",
            "Review 5:\n",
            "Teks: pretty disappointing. i was expecting more of a horror/thriller -- but this seemed to be more of an ...\n",
            "Sentimen (Biner): 0\n",
            "Prediksi: Sedang\n",
            "Sebenarnya: Buruk\n",
            "\n",
            "Review 6:\n",
            "Teks: As a flagship show, Attack of the Show (AOTS) is endemic of the larger fall of G4 TV; it is a show (...\n",
            "Sentimen (Biner): 0\n",
            "Prediksi: Sedang\n",
            "Sebenarnya: Buruk\n",
            "\n",
            "Review 7:\n",
            "Teks: Thomas Capano was not Anne Marie's boss Tom Carper, the Governor was. That is the reason the Feds be...\n",
            "Sentimen (Biner): 1\n",
            "Prediksi: Buruk\n",
            "Sebenarnya: Baik\n",
            "\n",
            "Review 8:\n",
            "Teks: Two escaped convicts step out of the woods and shoot two campers in the head. That's the first scene...\n",
            "Sentimen (Biner): 0\n",
            "Prediksi: Baik\n",
            "Sebenarnya: Buruk\n",
            "\n",
            "Review 9:\n",
            "Teks: I actually found this movie 'interesting'; finally one worth my time to watch and rent. It is true.....\n",
            "Sentimen (Biner): 1\n",
            "Prediksi: Baik\n",
            "Sebenarnya: Sedang\n",
            "\n",
            "Review 10:\n",
            "Teks: In my opinion this is the best Oliver Stone flick -- probably more because of Bogosian's influence t...\n",
            "Sentimen (Biner): 1\n",
            "Prediksi: Baik\n",
            "Sebenarnya: Baik\n",
            "\n",
            "Laporan Klasifikasi Regressor Ke-2:\n",
            "              precision    recall  f1-score   support\n",
            "\n",
            "        Baik       0.76      0.84      0.80      4085\n",
            "       Buruk       0.79      0.79      0.79      3859\n",
            "      Sedang       0.46      0.36      0.40      2056\n",
            "\n",
            "    accuracy                           0.72     10000\n",
            "   macro avg       0.67      0.66      0.66     10000\n",
            "weighted avg       0.71      0.72      0.71     10000\n",
            "\n"
          ]
        }
      ],
      "source": [
        "# Code pengujian pada data test menggunakan regressor ke 2\n",
        "# Prediksi pada data uji menggunakan regressor ke-2\n",
        "y_pred_2 = model_2.predict(X_test)\n",
        "y_pred_classes_2 = np.argmax(y_pred_2, axis=1)  # Konversi probabilitas ke kelas\n",
        "y_test_classes = np.argmax(y_test, axis=1)  # Konversi one-hot ke kelas (sudah ada dari sebelumnya)\n",
        "\n",
        "# Tampilkan contoh hasil prediksi (10 data pertama)\n",
        "print(\"Contoh Hasil Prediksi Regressor Ke-2 (10 data pertama):\")\n",
        "for i, idx in enumerate(test_indices[:10]):\n",
        "    print(f\"Review {i+1}:\")\n",
        "    print(f\"Teks: {df['Review'].iloc[idx][:100]}...\")\n",
        "    print(f\"Sentimen (Biner): {df['Sentiment'].iloc[idx]}\")\n",
        "    print(f\"Prediksi: {label_encoder.inverse_transform([y_pred_classes_2[i]])[0]}\")\n",
        "    print(f\"Sebenarnya: {label_encoder.inverse_transform([y_test_classes[i]])[0]}\")\n",
        "    print()\n",
        "\n",
        "# Tampilkan laporan klasifikasi\n",
        "print(\"Laporan Klasifikasi Regressor Ke-2:\")\n",
        "print(classification_report(y_test_classes, y_pred_classes_2, target_names=label_encoder.classes_))"
      ]
    },
    {
      "cell_type": "markdown",
      "metadata": {
        "id": "AnK8rLnJd8qS"
      },
      "source": [
        "## 14) Analisa performansi model"
      ]
    },
    {
      "cell_type": "markdown",
      "metadata": {
        "id": "0T2LYHFdd8qT"
      },
      "source": [
        "### a) Menggunakan Mean Absolute Error (MAE)"
      ]
    },
    {
      "cell_type": "code",
      "execution_count": null,
      "metadata": {
        "id": "1p5pALIjd8qT",
        "colab": {
          "base_uri": "https://localhost:8080/"
        },
        "outputId": "adcc8104-2c2c-444b-80c2-2116cc00581f"
      },
      "outputs": [
        {
          "output_type": "stream",
          "name": "stdout",
          "text": [
            "Mean Absolute Error (MAE) Regressor Ke-2: 0.3900\n"
          ]
        }
      ],
      "source": [
        "# Code analisa performansi menggunakan MAE\n",
        "from sklearn.metrics import mean_absolute_error\n",
        "\n",
        "# Hitung MAE untuk regressor ke-2\n",
        "mae_2 = mean_absolute_error(y_test_classes, y_pred_classes_2)\n",
        "print(f\"Mean Absolute Error (MAE) Regressor Ke-2: {mae_2:.4f}\")"
      ]
    },
    {
      "cell_type": "markdown",
      "metadata": {
        "id": "vZsguG0nd8qT"
      },
      "source": [
        "### b) Menggunakan Mean Squared Error (MSE)"
      ]
    },
    {
      "cell_type": "code",
      "execution_count": null,
      "metadata": {
        "id": "xpDKrxCEd8qU",
        "colab": {
          "base_uri": "https://localhost:8080/"
        },
        "outputId": "c7071ca6-c342-4fe1-abd5-95099a9795f1"
      },
      "outputs": [
        {
          "output_type": "stream",
          "name": "stdout",
          "text": [
            "Mean Squared Error (MSE) Regressor Ke-2: 0.6152\n"
          ]
        }
      ],
      "source": [
        "# Code analisa performansi menggunakan MSE\n",
        "from sklearn.metrics import mean_squared_error\n",
        "\n",
        "# Hitung MSE untuk regressor ke-2\n",
        "mse_2 = mean_squared_error(y_test_classes, y_pred_classes_2)\n",
        "print(f\"Mean Squared Error (MSE) Regressor Ke-2: {mse_2:.4f}\")"
      ]
    },
    {
      "cell_type": "markdown",
      "metadata": {
        "id": "jgm33Btnd8qU"
      },
      "source": [
        "### c) Menggunakan RMSE"
      ]
    },
    {
      "cell_type": "code",
      "execution_count": null,
      "metadata": {
        "id": "usJ2p7Vgd8qU",
        "colab": {
          "base_uri": "https://localhost:8080/"
        },
        "outputId": "00124367-7aae-4ab2-baee-e53f8121afe4"
      },
      "outputs": [
        {
          "output_type": "stream",
          "name": "stdout",
          "text": [
            "Root Mean Squared Error (RMSE) Regressor Ke-2: 0.7843\n"
          ]
        }
      ],
      "source": [
        "# Code analisa performansi menggunakan RMSE\n",
        "from sklearn.metrics import mean_squared_error\n",
        "import numpy as np\n",
        "\n",
        "# Hitung RMSE untuk regressor ke-2\n",
        "rmse_2 = np.sqrt(mean_squared_error(y_test_classes, y_pred_classes_2))\n",
        "print(f\"Root Mean Squared Error (RMSE) Regressor Ke-2: {rmse_2:.4f}\")"
      ]
    },
    {
      "cell_type": "markdown",
      "metadata": {
        "id": "ViADaOiPd8qU"
      },
      "source": [
        "### d) Menggunakan R squared"
      ]
    },
    {
      "cell_type": "code",
      "execution_count": null,
      "metadata": {
        "id": "jCO0hxked8qU",
        "colab": {
          "base_uri": "https://localhost:8080/"
        },
        "outputId": "15394a6e-7ba7-4af7-b297-2a5dd4132af0"
      },
      "outputs": [
        {
          "output_type": "stream",
          "name": "stdout",
          "text": [
            "R-squared (R²) Regressor Ke-2: -0.0738\n"
          ]
        }
      ],
      "source": [
        "# Code analisa performansi menggunakan R squared\n",
        "from sklearn.metrics import r2_score\n",
        "\n",
        "# Hitung R-squared untuk regressor ke-2\n",
        "r2_2 = r2_score(y_test_classes, y_pred_classes_2)\n",
        "print(f\"R-squared (R²) Regressor Ke-2: {r2_2:.4f}\")"
      ]
    },
    {
      "cell_type": "markdown",
      "metadata": {
        "id": "J1kjc1ljeIVb"
      },
      "source": [
        "## 15) Kesimpulan setelah HPO\n",
        "\n",
        "##  1. **Peningkatan Kinerja Model Klasifikasi Setelah Optimisasi**\n",
        "\n",
        "###  Perbandingan Sebelum dan Sesudah Optimisasi:\n",
        "\n",
        "| Metrik | Sebelum Optimisasi | Setelah Optimisasi |\n",
        "|-------|----------------------|---------------------|\n",
        "| Accuracy | 69% | **72%** |\n",
        "| F1-score Baik | 0.78 | 0.80 |\n",
        "| F1-score Buruk | 0.75 | 0.79 |\n",
        "| F1-score Sedang | 0.36 | **0.40** |\n",
        "\n",
        "###  Analisis:\n",
        "- Ada **peningkatan signifikan dalam akurasi** (dari 69% ke 72%) setelah dilakukan **HPO**.\n",
        "- Performa model pada **kelas \"Sedang\" juga meningkat**, meskipun masih menjadi titik lemah.\n",
        "- Precision dan recall untuk **kelas \"Baik\" dan \"Buruk\" sangat baik**, menunjukkan bahwa model lebih stabil dalam mengenali sentimen ekstrem.\n",
        "\n",
        ">  **Kesimpulan**: Model berhasil ditingkatkan performanya melalui tuning hyperparameter, terutama dalam hal generalisasi dan prediksi multikelas.\n",
        "\n",
        "---\n",
        "\n",
        "##  2. **Regresi Masih Tidak Efektif Meskipun Lebih Baik**\n",
        "\n",
        "###  Hasil Regresi Setelah Optimisasi:\n",
        "\n",
        "- **R-squared (R²)**: -0.0738 → Masih negatif\n",
        "- **RMSE**: 0.7843\n",
        "- **MAE**: 0.3900\n",
        "\n",
        "###  Analisis:\n",
        "- Walaupun **sedikit membaik dibanding sebelumnya**, nilai R² tetap negatif → model gagal menjelaskan variasi target.\n",
        "- Error seperti RMSE dan MAE **masih cukup besar relatif terhadap skor target**.\n",
        "- Prediksi numerik tidak relevan atau sulit diinterpretasi jika tujuan utamanya adalah analisis sentimen kategorikal.\n",
        "\n",
        "\n",
        "\n",
        "\n",
        "###  Analisis:\n",
        "- Arsitektur model **cukup sederhana namun efektif** setelah tuning.\n",
        "- Penggunaan dropout tinggi (0.4) membantu mengurangi overfitting.\n",
        "- Learning rate kecil (log scale) memberikan konvergensi yang lebih stabil.\n",
        "\n",
        ">  **Kesimpulan**: Hyperparameter hasil HPO memberikan kontribusi positif dalam peningkatan performa dan pengurangan overfitting.\n",
        "\n",
        "\n",
        "\n",
        "##  3. **Proses Pelatihan Menunjukkan Stabilitas yang Lebih Baik**\n",
        "\n",
        "###  Ringkasan Pelatihan:\n",
        "- Akurasi training naik secara bertahap dari 49% ke 80%\n",
        "- Validasi mencapai puncak 73.5%, meskipun ada sedikit penurunan di akhir epoch\n",
        "\n",
        "###  Analisis:\n",
        "- Dibandingkan sebelumnya, **overfitting berkurang** berkat penggunaan dropout dan learning rate yang dioptimalkan.\n",
        "- Model **tidak lagi terlalu cepat overfit** dan memiliki kemampuan generalisasi yang lebih baik.\n",
        "\n",
        ">  **Kesimpulan**: Proses pelatihan lebih stabil setelah HPO, menunjukkan bahwa model siap digunakan untuk inferensi atau deployment."
      ]
    },
    {
      "cell_type": "markdown",
      "metadata": {
        "id": "idwYS8E6hI3v"
      },
      "source": [
        "# Referensi link\n",
        "\n",
        "A. Scikit-learn library\n",
        "1. [sklearn.preprocessing.MinMaxScaler](https://scikit-learn.org/stable/modules/generated/sklearn.preprocessing.MinMaxScaler.html)\n",
        "\n",
        "2. [sklearn.neighbors.KNeighborsClassifier](https://scikit-learn.org/stable/modules/generated/sklearn.neighbors.KNeighborsClassifier.html)\n",
        "\n",
        "B. Others\n",
        "1. [Data Pre-Processing wit Sklearn using Standard and Minmax scaler](https://www.geeksforgeeks.org/data-pre-processing-wit-sklearn-using-standard-and-minmax-scaler/)\n",
        "2. [Scaling Data Range using Min Max Scaler](https://botbark.com/2019/12/28/scaling-data-range-using-min-max-scaler/)\n",
        "3. [Train-Test Split for Evaluating Machine Learning Algorithms](https://machinelearningmastery.com/train-test-split-for-evaluating-machine-learning-algorithms/)\n",
        "4. [Accuracy vs. F1-Score](https://medium.com/analytics-vidhya/accuracy-vs-f1-score-6258237beca2)\n",
        "5. [Mengenal Accuracy, Precision, Recall dan Specificity serta yang diprioritaskan dalam Machine Learning ](https://rey1024.medium.com/mengenal-accuracy-precission-recall-dan-specificity-serta-yang-diprioritaskan-b79ff4d77de8\n",
        ")\n"
      ]
    }
  ],
  "metadata": {
    "accelerator": "GPU",
    "colab": {
      "gpuType": "T4",
      "provenance": []
    },
    "kernelspec": {
      "display_name": "Python 3",
      "name": "python3"
    },
    "language_info": {
      "codemirror_mode": {
        "name": "ipython",
        "version": 3
      },
      "file_extension": ".py",
      "mimetype": "text/x-python",
      "name": "python",
      "nbconvert_exporter": "python",
      "pygments_lexer": "ipython3",
      "version": "3.6.3"
    }
  },
  "nbformat": 4,
  "nbformat_minor": 0
}