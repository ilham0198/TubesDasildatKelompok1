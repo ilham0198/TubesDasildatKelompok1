{
  "cells": [
    {
      "cell_type": "markdown",
      "metadata": {
        "id": "xLKx6pROjTJl"
      },
      "source": [
        "# Biodata Mahasiswa\n",
        "## Praktikum Pekan 10 : Klasifikasi & Regresi menggunakan Model Neural Network (NN) pada IMDB Dataset\n",
        "\n",
        "VSI2J3 - Dasar Ilmu Data\n",
        "\n",
        "NIM: 607012300120\n",
        "\n",
        "Nama: Ilham Setiawan Siregar\n",
        "\n",
        "Kelas: D3SI-47-04"
      ]
    },
    {
      "cell_type": "markdown",
      "metadata": {
        "id": "f6bmAzWYDNfs"
      },
      "source": [
        "# Deskripsi contoh\n",
        "\n",
        "Colab berikut merupakan contoh untuk memprediksi sentimen (positif/negatif) dari ulasan film berdasarkan teks ulasan. Prediksi akan dilakukan dengan cara klasifikasi, yang dapat dilakukan dengan 1 method, yaitu:\n",
        "1. Klasifikasi (Classification). Klasifikasi yang akan digunakan pada colab ini adalah Neural Network (NN).\n",
        "\n",
        "* Prediksi didasarkan pada dua kategori, yaitu: ```positive``` dan ```negative```.\n",
        "* Dataset akan diambil dari dataset ```IMDB Dataset.csv```\n",
        "* Dataset tersebut memiliki 1 fitur dan 1 label.\n",
        "* Fiturnya adalah review.\n",
        "  - review adalah teks ulasan dari kritikus film."
      ]
    },
    {
      "cell_type": "markdown",
      "metadata": {
        "id": "oIDsbjD1K26h"
      },
      "source": [
        "# Tahapan code untuk persiapan data\n",
        "1. Koneksi colab dengan GDrive\n",
        "2. Tampilkan isi folder dataset_ilmu_data\n",
        "3. Import library yang dibutuhkan\n",
        "4. Load dataset\n",
        "5. Tampilkan contoh data"
      ]
    },
    {
      "cell_type": "markdown",
      "metadata": {
        "id": "fpatHZbExcaA"
      },
      "source": [
        "## Koneksi colab dengan GDrive\n",
        "\n",
        "\n",
        "\n"
      ]
    },
    {
      "cell_type": "code",
      "execution_count": 1,
      "metadata": {
        "colab": {
          "base_uri": "https://localhost:8080/"
        },
        "id": "LJEk10f1xRwL",
        "outputId": "212be387-f0f6-49e9-d071-ed88c634b0d5"
      },
      "outputs": [
        {
          "ename": "ModuleNotFoundError",
          "evalue": "No module named 'google.colab'",
          "output_type": "error",
          "traceback": [
            "\u001b[31m---------------------------------------------------------------------------\u001b[39m",
            "\u001b[31mModuleNotFoundError\u001b[39m                       Traceback (most recent call last)",
            "\u001b[36mCell\u001b[39m\u001b[36m \u001b[39m\u001b[32mIn[1]\u001b[39m\u001b[32m, line 1\u001b[39m\n\u001b[32m----> \u001b[39m\u001b[32m1\u001b[39m \u001b[38;5;28;01mfrom\u001b[39;00m\u001b[38;5;250m \u001b[39m\u001b[34;01mgoogle\u001b[39;00m\u001b[34;01m.\u001b[39;00m\u001b[34;01mcolab\u001b[39;00m\u001b[38;5;250m \u001b[39m\u001b[38;5;28;01mimport\u001b[39;00m drive\n\u001b[32m      2\u001b[39m drive.mount(\u001b[33m'\u001b[39m\u001b[33m/content/drive\u001b[39m\u001b[33m'\u001b[39m, force_remount=\u001b[38;5;28;01mTrue\u001b[39;00m)\n",
            "\u001b[31mModuleNotFoundError\u001b[39m: No module named 'google.colab'"
          ]
        }
      ],
      "source": [
        "from google.colab import drive\n",
        "drive.mount('/content/drive', force_remount=True)\n"
      ]
    },
    {
      "cell_type": "code",
      "execution_count": null,
      "metadata": {
        "id": "XkDI9pc5x7JN"
      },
      "outputs": [],
      "source": [
        "# Import the necessary libraries again\n",
        "from mpl_toolkits.axisartist.axislines import SubplotZero\n",
        "import matplotlib.pyplot as plt\n",
        "import numpy as np\n",
        "import pandas as pd\n",
        "import seaborn\n",
        "import tensorflow as tf\n",
        "seaborn.set(style='ticks')\n",
        "import matplotlib.cm as cm\n",
        "from sklearn import preprocessing\n",
        "from sklearn.preprocessing import MinMaxScaler\n",
        "from sklearn.model_selection import train_test_split\n",
        "from sklearn.neighbors import KNeighborsClassifier\n",
        "from sklearn.tree import DecisionTreeClassifier\n",
        "from tensorflow.keras.preprocessing.text import Tokenizer\n",
        "from tensorflow.keras.preprocessing.sequence import pad_sequences\n",
        "from tensorflow.keras.models import Sequential\n",
        "from tensorflow.keras.layers import Embedding, LSTM, Dense, Dropout\n",
        "from sklearn.svm import SVC\n",
        "from sklearn.preprocessing import LabelEncoder\n",
        "import seaborn as sns\n",
        "import re"
      ]
    },
    {
      "cell_type": "markdown",
      "metadata": {
        "id": "z16rnHX2HtYT"
      },
      "source": [
        "## Load dataset"
      ]
    },
    {
      "cell_type": "code",
      "execution_count": null,
      "metadata": {
        "colab": {
          "base_uri": "https://localhost:8080/"
        },
        "id": "cCJPiA4IHtYc",
        "outputId": "0765ec20-63a9-4e4f-acf7-7fe4d0c9ee41"
      },
      "outputs": [
        {
          "name": "stdout",
          "output_type": "stream",
          "text": [
            "(50000, 2)\n"
          ]
        }
      ],
      "source": [
        "#load data google drive\n",
        "df = pd.read_csv('/content/drive/MyDrive/Colab Notebooks/IMDB Dataset.csv')\n",
        "print (df.shape)"
      ]
    },
    {
      "cell_type": "markdown",
      "metadata": {
        "id": "UBXC7j1NHtYg"
      },
      "source": [
        "## Tampilkan contoh data"
      ]
    },
    {
      "cell_type": "code",
      "execution_count": null,
      "metadata": {
        "colab": {
          "base_uri": "https://localhost:8080/",
          "height": 206
        },
        "id": "56C0Bcp9HtYi",
        "outputId": "59cd4bba-b94b-4e75-c6fd-cce035d37259"
      },
      "outputs": [
        {
          "data": {
            "application/vnd.google.colaboratory.intrinsic+json": {
              "summary": "{\n  \"name\": \"df\",\n  \"rows\": 50000,\n  \"fields\": [\n    {\n      \"column\": \"review\",\n      \"properties\": {\n        \"dtype\": \"string\",\n        \"num_unique_values\": 49582,\n        \"samples\": [\n          \"\\\"Soul Plane\\\" is a horrible attempt at comedy that only should appeal people with thick skulls, bloodshot eyes and furry pawns. <br /><br />The plot is not only incoherent but also non-existent, acting is mostly sub sub-par with a gang of highly moronic and dreadful characters thrown in for bad measure, jokes are often spotted miles ahead and almost never even a bit amusing. This movie lacks any structure and is full of racial stereotypes that must have seemed old even in the fifties, the only thing it really has going for it is some pretty ladies, but really, if you want that you can rent something from the \\\"Adult\\\" section. OK?<br /><br />I can hardly see anything here to recommend since you'll probably have a lot a better and productive time chasing rats with a sledgehammer or inventing waterproof teabags or whatever.<br /><br />2/10\",\n          \"Guest from the Future tells a fascinating story of time travel, friendship, battle of good and evil -- all with a small budget, child actors, and few special effects. Something for Spielberg and Lucas to learn from. ;) A sixth-grader Kolya \\\"Nick\\\" Gerasimov finds a time machine in the basement of a decrepit building and travels 100 years into the future. He discovers a near-perfect, utopian society where robots play guitars and write poetry, everyone is kind to each other and people enjoy everything technology has to offer. Alice is the daughter of a prominent scientist who invented a device called Mielophone that allows to read minds of humans and animals. The device can be put to both good and bad use, depending on whose hands it falls into. When two evil space pirates from Saturn who want to rule the universe attempt to steal Mielophone, it falls into the hands of 20th century school boy Nick. With the pirates hot on his tracks, he travels back to his time, followed by the pirates, and Alice. Chaos, confusion and funny situations follow as the luckless pirates try to blend in with the earthlings. Alice enrolls in the same school Nick goes to and demonstrates superhuman abilities in PE class. The catch is, Alice doesn't know what Nick looks like, while the pirates do. Also, the pirates are able to change their appearance and turn literally into anyone. (Hmm, I wonder if this is where James Cameron got the idea for Terminator...) Who gets to Nick -- and Mielophone -- first? Excellent plot, non-stop adventures, and great soundtrack. I wish Hollywood made kid movies like this one...\",\n          \"\\\"National Treasure\\\" (2004) is a thoroughly misguided hodge-podge of plot entanglements that borrow from nearly every cloak and dagger government conspiracy clich\\u00e9 that has ever been written. The film stars Nicholas Cage as Benjamin Franklin Gates (how precious is that, I ask you?); a seemingly normal fellow who, for no other reason than being of a lineage of like-minded misguided fortune hunters, decides to steal a 'national treasure' that has been hidden by the United States founding fathers. After a bit of subtext and background that plays laughably (unintentionally) like Indiana Jones meets The Patriot, the film degenerates into one misguided whimsy after another \\u0096 attempting to create a 'Stanley Goodspeed' regurgitation of Nicholas Cage and launch the whole convoluted mess forward with a series of high octane, but disconnected misadventures.<br /><br />The relevancy and logic to having George Washington and his motley crew of patriots burying a king's ransom someplace on native soil, and then, going through the meticulous plan of leaving clues scattered throughout U.S. currency art work, is something that director Jon Turteltaub never quite gets around to explaining. Couldn't Washington found better usage for such wealth during the start up of the country? Hence, we are left with a mystery built on top of an enigma that is already on shaky ground by the time Ben appoints himself the new custodian of this untold wealth. Ben's intentions are noble \\u0096 if confusing. He's set on protecting the treasure. For who and when?\\u0085your guess is as good as mine.<br /><br />But there are a few problems with Ben's crusade. First up, his friend, Ian Holmes (Sean Bean) decides that he can't wait for Ben to make up his mind about stealing the Declaration of Independence from the National Archives (oh, yeah \\u0096 brilliant idea!). Presumably, the back of that famous document holds the secret answer to the ultimate fortune. So Ian tries to kill Ben. The assassination attempt is, of course, unsuccessful, if overly melodramatic. It also affords Ben the opportunity to pick up, and pick on, the very sultry curator of the archives, Abigail Chase (Diane Kruger). She thinks Ben is clearly a nut \\u0096 at least at the beginning. But true to action/romance form, Abby's resolve melts quicker than you can say, \\\"is that the Hope Diamond?\\\" The film moves into full X-File-ish mode, as the FBI, mistakenly believing that Ben is behind the theft, retaliate in various benign ways that lead to a multi-layering of action sequences reminiscent of Mission Impossible meets The Fugitive. Honestly, don't those guys ever get 'intelligence' information that is correct? In the final analysis, \\\"National Treasure\\\" isn't great film making, so much as it's a patchwork rehash of tired old bits from other movies, woven together from scraps, the likes of which would make IL' Betsy Ross blush.<br /><br />The Buena Vista DVD delivers a far more generous treatment than this film is deserving of. The anamorphic widescreen picture exhibits a very smooth and finely detailed image with very rich colors, natural flesh tones, solid blacks and clean whites. The stylized image is also free of blemishes and digital enhancements. The audio is 5.1 and delivers a nice sonic boom to your side and rear speakers with intensity and realism. Extras include a host of promotional junket material that is rather deep and over the top in its explanation of how and why this film was made. If only, as an audience, we had had more clarification as to why Ben and co. were chasing after an illusive treasure, this might have been one good flick. Extras conclude with the theatrical trailer, audio commentary and deleted scenes. Not for the faint-hearted \\u0096 just the thick-headed.\"\n        ],\n        \"semantic_type\": \"\",\n        \"description\": \"\"\n      }\n    },\n    {\n      \"column\": \"sentiment\",\n      \"properties\": {\n        \"dtype\": \"category\",\n        \"num_unique_values\": 2,\n        \"samples\": [\n          \"negative\",\n          \"positive\"\n        ],\n        \"semantic_type\": \"\",\n        \"description\": \"\"\n      }\n    }\n  ]\n}",
              "type": "dataframe",
              "variable_name": "df"
            },
            "text/html": [
              "\n",
              "  <div id=\"df-43c87ec0-46b6-4965-bafb-9b505da067d8\" class=\"colab-df-container\">\n",
              "    <div>\n",
              "<style scoped>\n",
              "    .dataframe tbody tr th:only-of-type {\n",
              "        vertical-align: middle;\n",
              "    }\n",
              "\n",
              "    .dataframe tbody tr th {\n",
              "        vertical-align: top;\n",
              "    }\n",
              "\n",
              "    .dataframe thead th {\n",
              "        text-align: right;\n",
              "    }\n",
              "</style>\n",
              "<table border=\"1\" class=\"dataframe\">\n",
              "  <thead>\n",
              "    <tr style=\"text-align: right;\">\n",
              "      <th></th>\n",
              "      <th>review</th>\n",
              "      <th>sentiment</th>\n",
              "    </tr>\n",
              "  </thead>\n",
              "  <tbody>\n",
              "    <tr>\n",
              "      <th>0</th>\n",
              "      <td>One of the other reviewers has mentioned that ...</td>\n",
              "      <td>positive</td>\n",
              "    </tr>\n",
              "    <tr>\n",
              "      <th>1</th>\n",
              "      <td>A wonderful little production. &lt;br /&gt;&lt;br /&gt;The...</td>\n",
              "      <td>positive</td>\n",
              "    </tr>\n",
              "    <tr>\n",
              "      <th>2</th>\n",
              "      <td>I thought this was a wonderful way to spend ti...</td>\n",
              "      <td>positive</td>\n",
              "    </tr>\n",
              "    <tr>\n",
              "      <th>3</th>\n",
              "      <td>Basically there's a family where a little boy ...</td>\n",
              "      <td>negative</td>\n",
              "    </tr>\n",
              "    <tr>\n",
              "      <th>4</th>\n",
              "      <td>Petter Mattei's \"Love in the Time of Money\" is...</td>\n",
              "      <td>positive</td>\n",
              "    </tr>\n",
              "  </tbody>\n",
              "</table>\n",
              "</div>\n",
              "    <div class=\"colab-df-buttons\">\n",
              "\n",
              "  <div class=\"colab-df-container\">\n",
              "    <button class=\"colab-df-convert\" onclick=\"convertToInteractive('df-43c87ec0-46b6-4965-bafb-9b505da067d8')\"\n",
              "            title=\"Convert this dataframe to an interactive table.\"\n",
              "            style=\"display:none;\">\n",
              "\n",
              "  <svg xmlns=\"http://www.w3.org/2000/svg\" height=\"24px\" viewBox=\"0 -960 960 960\">\n",
              "    <path d=\"M120-120v-720h720v720H120Zm60-500h600v-160H180v160Zm220 220h160v-160H400v160Zm0 220h160v-160H400v160ZM180-400h160v-160H180v160Zm440 0h160v-160H620v160ZM180-180h160v-160H180v160Zm440 0h160v-160H620v160Z\"/>\n",
              "  </svg>\n",
              "    </button>\n",
              "\n",
              "  <style>\n",
              "    .colab-df-container {\n",
              "      display:flex;\n",
              "      gap: 12px;\n",
              "    }\n",
              "\n",
              "    .colab-df-convert {\n",
              "      background-color: #E8F0FE;\n",
              "      border: none;\n",
              "      border-radius: 50%;\n",
              "      cursor: pointer;\n",
              "      display: none;\n",
              "      fill: #1967D2;\n",
              "      height: 32px;\n",
              "      padding: 0 0 0 0;\n",
              "      width: 32px;\n",
              "    }\n",
              "\n",
              "    .colab-df-convert:hover {\n",
              "      background-color: #E2EBFA;\n",
              "      box-shadow: 0px 1px 2px rgba(60, 64, 67, 0.3), 0px 1px 3px 1px rgba(60, 64, 67, 0.15);\n",
              "      fill: #174EA6;\n",
              "    }\n",
              "\n",
              "    .colab-df-buttons div {\n",
              "      margin-bottom: 4px;\n",
              "    }\n",
              "\n",
              "    [theme=dark] .colab-df-convert {\n",
              "      background-color: #3B4455;\n",
              "      fill: #D2E3FC;\n",
              "    }\n",
              "\n",
              "    [theme=dark] .colab-df-convert:hover {\n",
              "      background-color: #434B5C;\n",
              "      box-shadow: 0px 1px 3px 1px rgba(0, 0, 0, 0.15);\n",
              "      filter: drop-shadow(0px 1px 2px rgba(0, 0, 0, 0.3));\n",
              "      fill: #FFFFFF;\n",
              "    }\n",
              "  </style>\n",
              "\n",
              "    <script>\n",
              "      const buttonEl =\n",
              "        document.querySelector('#df-43c87ec0-46b6-4965-bafb-9b505da067d8 button.colab-df-convert');\n",
              "      buttonEl.style.display =\n",
              "        google.colab.kernel.accessAllowed ? 'block' : 'none';\n",
              "\n",
              "      async function convertToInteractive(key) {\n",
              "        const element = document.querySelector('#df-43c87ec0-46b6-4965-bafb-9b505da067d8');\n",
              "        const dataTable =\n",
              "          await google.colab.kernel.invokeFunction('convertToInteractive',\n",
              "                                                    [key], {});\n",
              "        if (!dataTable) return;\n",
              "\n",
              "        const docLinkHtml = 'Like what you see? Visit the ' +\n",
              "          '<a target=\"_blank\" href=https://colab.research.google.com/notebooks/data_table.ipynb>data table notebook</a>'\n",
              "          + ' to learn more about interactive tables.';\n",
              "        element.innerHTML = '';\n",
              "        dataTable['output_type'] = 'display_data';\n",
              "        await google.colab.output.renderOutput(dataTable, element);\n",
              "        const docLink = document.createElement('div');\n",
              "        docLink.innerHTML = docLinkHtml;\n",
              "        element.appendChild(docLink);\n",
              "      }\n",
              "    </script>\n",
              "  </div>\n",
              "\n",
              "\n",
              "    <div id=\"df-b1af99c3-0ca6-40f5-88b6-0963e34ce91a\">\n",
              "      <button class=\"colab-df-quickchart\" onclick=\"quickchart('df-b1af99c3-0ca6-40f5-88b6-0963e34ce91a')\"\n",
              "                title=\"Suggest charts\"\n",
              "                style=\"display:none;\">\n",
              "\n",
              "<svg xmlns=\"http://www.w3.org/2000/svg\" height=\"24px\"viewBox=\"0 0 24 24\"\n",
              "     width=\"24px\">\n",
              "    <g>\n",
              "        <path d=\"M19 3H5c-1.1 0-2 .9-2 2v14c0 1.1.9 2 2 2h14c1.1 0 2-.9 2-2V5c0-1.1-.9-2-2-2zM9 17H7v-7h2v7zm4 0h-2V7h2v10zm4 0h-2v-4h2v4z\"/>\n",
              "    </g>\n",
              "</svg>\n",
              "      </button>\n",
              "\n",
              "<style>\n",
              "  .colab-df-quickchart {\n",
              "      --bg-color: #E8F0FE;\n",
              "      --fill-color: #1967D2;\n",
              "      --hover-bg-color: #E2EBFA;\n",
              "      --hover-fill-color: #174EA6;\n",
              "      --disabled-fill-color: #AAA;\n",
              "      --disabled-bg-color: #DDD;\n",
              "  }\n",
              "\n",
              "  [theme=dark] .colab-df-quickchart {\n",
              "      --bg-color: #3B4455;\n",
              "      --fill-color: #D2E3FC;\n",
              "      --hover-bg-color: #434B5C;\n",
              "      --hover-fill-color: #FFFFFF;\n",
              "      --disabled-bg-color: #3B4455;\n",
              "      --disabled-fill-color: #666;\n",
              "  }\n",
              "\n",
              "  .colab-df-quickchart {\n",
              "    background-color: var(--bg-color);\n",
              "    border: none;\n",
              "    border-radius: 50%;\n",
              "    cursor: pointer;\n",
              "    display: none;\n",
              "    fill: var(--fill-color);\n",
              "    height: 32px;\n",
              "    padding: 0;\n",
              "    width: 32px;\n",
              "  }\n",
              "\n",
              "  .colab-df-quickchart:hover {\n",
              "    background-color: var(--hover-bg-color);\n",
              "    box-shadow: 0 1px 2px rgba(60, 64, 67, 0.3), 0 1px 3px 1px rgba(60, 64, 67, 0.15);\n",
              "    fill: var(--button-hover-fill-color);\n",
              "  }\n",
              "\n",
              "  .colab-df-quickchart-complete:disabled,\n",
              "  .colab-df-quickchart-complete:disabled:hover {\n",
              "    background-color: var(--disabled-bg-color);\n",
              "    fill: var(--disabled-fill-color);\n",
              "    box-shadow: none;\n",
              "  }\n",
              "\n",
              "  .colab-df-spinner {\n",
              "    border: 2px solid var(--fill-color);\n",
              "    border-color: transparent;\n",
              "    border-bottom-color: var(--fill-color);\n",
              "    animation:\n",
              "      spin 1s steps(1) infinite;\n",
              "  }\n",
              "\n",
              "  @keyframes spin {\n",
              "    0% {\n",
              "      border-color: transparent;\n",
              "      border-bottom-color: var(--fill-color);\n",
              "      border-left-color: var(--fill-color);\n",
              "    }\n",
              "    20% {\n",
              "      border-color: transparent;\n",
              "      border-left-color: var(--fill-color);\n",
              "      border-top-color: var(--fill-color);\n",
              "    }\n",
              "    30% {\n",
              "      border-color: transparent;\n",
              "      border-left-color: var(--fill-color);\n",
              "      border-top-color: var(--fill-color);\n",
              "      border-right-color: var(--fill-color);\n",
              "    }\n",
              "    40% {\n",
              "      border-color: transparent;\n",
              "      border-right-color: var(--fill-color);\n",
              "      border-top-color: var(--fill-color);\n",
              "    }\n",
              "    60% {\n",
              "      border-color: transparent;\n",
              "      border-right-color: var(--fill-color);\n",
              "    }\n",
              "    80% {\n",
              "      border-color: transparent;\n",
              "      border-right-color: var(--fill-color);\n",
              "      border-bottom-color: var(--fill-color);\n",
              "    }\n",
              "    90% {\n",
              "      border-color: transparent;\n",
              "      border-bottom-color: var(--fill-color);\n",
              "    }\n",
              "  }\n",
              "</style>\n",
              "\n",
              "      <script>\n",
              "        async function quickchart(key) {\n",
              "          const quickchartButtonEl =\n",
              "            document.querySelector('#' + key + ' button');\n",
              "          quickchartButtonEl.disabled = true;  // To prevent multiple clicks.\n",
              "          quickchartButtonEl.classList.add('colab-df-spinner');\n",
              "          try {\n",
              "            const charts = await google.colab.kernel.invokeFunction(\n",
              "                'suggestCharts', [key], {});\n",
              "          } catch (error) {\n",
              "            console.error('Error during call to suggestCharts:', error);\n",
              "          }\n",
              "          quickchartButtonEl.classList.remove('colab-df-spinner');\n",
              "          quickchartButtonEl.classList.add('colab-df-quickchart-complete');\n",
              "        }\n",
              "        (() => {\n",
              "          let quickchartButtonEl =\n",
              "            document.querySelector('#df-b1af99c3-0ca6-40f5-88b6-0963e34ce91a button');\n",
              "          quickchartButtonEl.style.display =\n",
              "            google.colab.kernel.accessAllowed ? 'block' : 'none';\n",
              "        })();\n",
              "      </script>\n",
              "    </div>\n",
              "\n",
              "    </div>\n",
              "  </div>\n"
            ],
            "text/plain": [
              "                                              review sentiment\n",
              "0  One of the other reviewers has mentioned that ...  positive\n",
              "1  A wonderful little production. <br /><br />The...  positive\n",
              "2  I thought this was a wonderful way to spend ti...  positive\n",
              "3  Basically there's a family where a little boy ...  negative\n",
              "4  Petter Mattei's \"Love in the Time of Money\" is...  positive"
            ]
          },
          "execution_count": 4,
          "metadata": {},
          "output_type": "execute_result"
        }
      ],
      "source": [
        "df.head()"
      ]
    },
    {
      "cell_type": "markdown",
      "metadata": {
        "id": "71IFnOoZ2bG8"
      },
      "source": [
        "# Pemeriksaan missing values atau duplikasi dalam dataset"
      ]
    },
    {
      "cell_type": "code",
      "execution_count": null,
      "metadata": {
        "colab": {
          "base_uri": "https://localhost:8080/"
        },
        "id": "XJ3MkEAc2kMa",
        "outputId": "1e043494-8b84-4776-ffbd-87b64588b062"
      },
      "outputs": [
        {
          "name": "stdout",
          "output_type": "stream",
          "text": [
            "=== PEMERIKSAAN MISSING VALUES ===\n",
            "Jumlah missing values per kolom:\n",
            "review       0\n",
            "sentiment    0\n",
            "dtype: int64\n",
            "\n",
            "Persentase missing values per kolom:\n",
            "review       0.0\n",
            "sentiment    0.0\n",
            "dtype: float64\n",
            "\n",
            "=== PEMERIKSAAN DATA DUPLIKAT ===\n",
            "Jumlah baris duplikat: 418\n",
            "Setelah menghapus duplikat, jumlah data menjadi: 49582\n",
            "\n",
            "Dimensi dataset setelah pemeriksaan:\n",
            "(49582, 2)\n"
          ]
        }
      ],
      "source": [
        "# 1. Pemeriksaan Missing Values\n",
        "print(\"=== PEMERIKSAAN MISSING VALUES ===\")\n",
        "print(\"Jumlah missing values per kolom:\")\n",
        "print(df.isnull().sum())\n",
        "\n",
        "print(\"\\nPersentase missing values per kolom:\")\n",
        "print(df.isnull().mean() * 100)\n",
        "\n",
        "# 2. Pemeriksaan Data Duplikat\n",
        "print(\"\\n=== PEMERIKSAAN DATA DUPLIKAT ===\")\n",
        "jumlah_duplikat = df.duplicated().sum()\n",
        "print(f\"Jumlah baris duplikat: {jumlah_duplikat}\")\n",
        "\n",
        "# Jika ada duplikasi, kita bisa hapus duplikat seperti ini:\n",
        "if jumlah_duplikat > 0:\n",
        "    df = df.drop_duplicates()\n",
        "    print(f\"Setelah menghapus duplikat, jumlah data menjadi: {len(df)}\")\n",
        "\n",
        "# Menampilkan dimensi akhir dataset\n",
        "print(\"\\nDimensi dataset setelah pemeriksaan:\")\n",
        "print(df.shape)"
      ]
    },
    {
      "cell_type": "markdown",
      "metadata": {
        "id": "YIZeSIudTDyI"
      },
      "source": [
        "# Klasifikasi menggunakan NN\n",
        "\n"
      ]
    },
    {
      "cell_type": "markdown",
      "metadata": {
        "id": "VFD8y1Itb3fd"
      },
      "source": [
        "### 1) Pilih fitur yang akan digunakan\n",
        "\n",
        "Tahap ini sama dengan code di classification, yaitu memilih fitur dari dataset."
      ]
    },
    {
      "cell_type": "code",
      "execution_count": null,
      "metadata": {
        "colab": {
          "base_uri": "https://localhost:8080/"
        },
        "id": "r0HHGNj5b2KA",
        "outputId": "235872db-77c3-4add-89a3-59bd936d619f"
      },
      "outputs": [
        {
          "name": "stdout",
          "output_type": "stream",
          "text": [
            "Mapping label: {'negative': np.int64(0), 'positive': np.int64(1)}\n",
            "\n",
            "Contoh label sebelum & sesudah encoding:\n",
            "negative => 0\n",
            "positive => 1\n"
          ]
        }
      ],
      "source": [
        "# 1. Pilih fitur (review) dan label (sentimen)\n",
        "X = df['review']    # Fitur teks\n",
        "y = df['sentiment']  # Target label\n",
        "\n",
        "# 2. Encode label menjadi nilai numerik: misalnya 'negative'=0, 'positive'=1\n",
        "label_encoder = LabelEncoder()\n",
        "y = label_encoder.fit_transform(y)\n",
        "\n",
        "# Simpan mapping label untuk referensi nanti\n",
        "label_mapping = dict(zip(label_encoder.classes_, label_encoder.transform(label_encoder.classes_)))\n",
        "print(\"Mapping label:\", label_mapping)\n",
        "\n",
        "# Menampilkan beberapa contoh hasil encoding\n",
        "print(\"\\nContoh label sebelum & sesudah encoding:\")\n",
        "for original, encoded in zip(label_encoder.classes_, label_encoder.transform(label_encoder.classes_)):\n",
        "    print(f\"{original} => {encoded}\")"
      ]
    },
    {
      "cell_type": "markdown",
      "metadata": {
        "id": "KmcBH8iwnGY4"
      },
      "source": [
        "### 2) Lakukan pre-processing (jika diperlukan)"
      ]
    },
    {
      "cell_type": "code",
      "execution_count": null,
      "metadata": {
        "colab": {
          "base_uri": "https://localhost:8080/"
        },
        "id": "OjZRD8a_nNjm",
        "outputId": "ea24852b-32db-44bd-c9c0-ee1ba25331f5"
      },
      "outputs": [
        {
          "name": "stdout",
          "output_type": "stream",
          "text": [
            "Contoh teks sebelum dan sesudah cleaning:\n",
            "\n",
            "Original:\n",
            "One of the other reviewers has mentioned that after watching just 1 Oz episode you'll be hooked. They are right, as this is exactly what happened with me.<br /><br />The first thing that struck me about Oz was its brutality and unflinching scenes of violence, which set in right from the word GO. Trust me, this is not a show for the faint hearted or timid. This show pulls no punches with regards to drugs, sex or violence. Its is hardcore, in the classic use of the word.<br /><br />It is called OZ as that is the nickname given to the Oswald Maximum Security State Penitentary. It focuses mainly on Emerald City, an experimental section of the prison where all the cells have glass fronts and face inwards, so privacy is not high on the agenda. Em City is home to many..Aryans, Muslims, gangstas, Latinos, Christians, Italians, Irish and more....so scuffles, death stares, dodgy dealings and shady agreements are never far away.<br /><br />I would say the main appeal of the show is due to the fact that it goes where other shows wouldn't dare. Forget pretty pictures painted for mainstream audiences, forget charm, forget romance...OZ doesn't mess around. The first episode I ever saw struck me as so nasty it was surreal, I couldn't say I was ready for it, but as I watched more, I developed a taste for Oz, and got accustomed to the high levels of graphic violence. Not just violence, but injustice (crooked guards who'll be sold out for a nickel, inmates who'll kill on order and get away with it, well mannered, middle class inmates being turned into prison bitches due to their lack of street skills or prison experience) Watching Oz, you may become comfortable with what is uncomfortable viewing....thats if you can get in touch with your darker side.\n",
            "Cleaned:\n",
            "one of the other reviewers has mentioned that after watching just oz episode you ll be hooked they are right as this is exactly what happened with me the first thing that struck me about oz was its brutality and unflinching scenes of violence which set in right from the word go trust me this is not a show for the faint hearted or timid this show pulls no punches with regards to drugs sex or violence its is hardcore in the classic use of the word it is called oz as that is the nickname given to the oswald maximum security state penitentary it focuses mainly on emerald city an experimental section of the prison where all the cells have glass fronts and face inwards so privacy is not high on the agenda em city is home to many aryans muslims gangstas latinos christians italians irish and more so scuffles death stares dodgy dealings and shady agreements are never far away i would say the main appeal of the show is due to the fact that it goes where other shows wouldn t dare forget pretty pictures painted for mainstream audiences forget charm forget romance oz doesn t mess around the first episode i ever saw struck me as so nasty it was surreal i couldn t say i was ready for it but as i watched more i developed a taste for oz and got accustomed to the high levels of graphic violence not just violence but injustice crooked guards who ll be sold out for a nickel inmates who ll kill on order and get away with it well mannered middle class inmates being turned into prison bitches due to their lack of street skills or prison experience watching oz you may become comfortable with what is uncomfortable viewing thats if you can get in touch with your darker side\n",
            "\n",
            "Original:\n",
            "A wonderful little production. <br /><br />The filming technique is very unassuming- very old-time-BBC fashion and gives a comforting, and sometimes discomforting, sense of realism to the entire piece. <br /><br />The actors are extremely well chosen- Michael Sheen not only \"has got all the polari\" but he has all the voices down pat too! You can truly see the seamless editing guided by the references to Williams' diary entries, not only is it well worth the watching but it is a terrificly written and performed piece. A masterful production about one of the great master's of comedy and his life. <br /><br />The realism really comes home with the little things: the fantasy of the guard which, rather than use the traditional 'dream' techniques remains solid then disappears. It plays on our knowledge and our senses, particularly with the scenes concerning Orton and Halliwell and the sets (particularly of their flat with Halliwell's murals decorating every surface) are terribly well done.\n",
            "Cleaned:\n",
            "a wonderful little production the filming technique is very unassuming very old time bbc fashion and gives a comforting and sometimes discomforting sense of realism to the entire piece the actors are extremely well chosen michael sheen not only has got all the polari but he has all the voices down pat too you can truly see the seamless editing guided by the references to williams diary entries not only is it well worth the watching but it is a terrificly written and performed piece a masterful production about one of the great master s of comedy and his life the realism really comes home with the little things the fantasy of the guard which rather than use the traditional dream techniques remains solid then disappears it plays on our knowledge and our senses particularly with the scenes concerning orton and halliwell and the sets particularly of their flat with halliwell s murals decorating every surface are terribly well done\n",
            "\n",
            "Dimensi data setelah tokenisasi dan padding: (49582, 200)\n",
            "\n",
            "Dimensi X_test_raw: (14875,)\n"
          ]
        }
      ],
      "source": [
        "# 3. Fungsi cleaning teks\n",
        "def clean_text(text):\n",
        "    text = re.sub(r'<[^>]+>', ' ', text)                 # Hapus HTML tags\n",
        "    text = re.sub(r'[^a-zA-Z\\s]', ' ', text)              # Hanya huruf, sisanya diganti spasi\n",
        "    text = text.lower().strip()                           # Lowercase dan hapus spasi ekstra\n",
        "    text = re.sub(r'\\s+', ' ', text)                      # Samakan banyak spasi jadi satu\n",
        "    return text\n",
        "\n",
        "# 4. Terapkan cleaning pada seluruh kolom review\n",
        "X_cleaned = X.apply(clean_text)\n",
        "\n",
        "# 5. Tokenisasi\n",
        "tokenizer = Tokenizer(num_words=5000, oov_token=\"<OOV>\")\n",
        "tokenizer.fit_on_texts(X_cleaned)\n",
        "sequences = tokenizer.texts_to_sequences(X_cleaned)\n",
        "padded = pad_sequences(sequences, maxlen=200, padding='post', truncating='post')\n",
        "\n",
        "# 6. Bagi dataset menjadi train dan test (Dilakukan sebelumnya, ulang pembagian untuk mendapatkan raw text test set)\n",
        "# Gunakan indeks yang sama dari pembagian padded data untuk mendapatkan teks mentah yang sesuai\n",
        "_, X_test_raw, _, _ = train_test_split(X_cleaned, y, test_size=0.3, random_state=42, stratify=y)\n",
        "\n",
        "# Tampilkan info hasil preprocessing\n",
        "print(\"Contoh teks sebelum dan sesudah cleaning:\")\n",
        "for i in range(2):\n",
        "    print(f\"\\nOriginal:\\n{X.iloc[i]}\")\n",
        "    print(f\"Cleaned:\\n{X_cleaned.iloc[i]}\")\n",
        "\n",
        "print(\"\\nDimensi data setelah tokenisasi dan padding:\", padded.shape)\n",
        "print(\"\\nDimensi X_test_raw:\", X_test_raw.shape) # Tambahkan ini untuk verifikasi"
      ]
    },
    {
      "cell_type": "markdown",
      "metadata": {
        "id": "iRigMj9FdYda"
      },
      "source": [
        "### 3) Bagi dataset menjasi data training dan data testing\n",
        "\n",
        "Membagi dataset untuk data training (70%) dan data testing (30%)"
      ]
    },
    {
      "cell_type": "code",
      "execution_count": null,
      "metadata": {
        "colab": {
          "base_uri": "https://localhost:8080/"
        },
        "id": "kJxbg6UidhMr",
        "outputId": "6fd09501-8ad0-46df-c35a-9e6068f4ebcc"
      },
      "outputs": [
        {
          "name": "stdout",
          "output_type": "stream",
          "text": [
            "Dimensi X_train: (34707, 200)\n",
            "Dimensi y_train: (34707,)\n",
            "Dimensi X_test : (14875, 200)\n",
            "Dimensi y_test : (14875,)\n"
          ]
        }
      ],
      "source": [
        "# Code pembagian dataset training dan testing\n",
        "from sklearn.model_selection import train_test_split\n",
        "\n",
        "# Asumsikan X adalah data teks yang sudah di-pad (padded sequences)\n",
        "# dan y adalah label numerik hasil LabelEncoder\n",
        "\n",
        "# Contoh:\n",
        "# X = pad_sequences(...)\n",
        "# y = label_encoder.fit_transform(...)\n",
        "\n",
        "# Membagi dataset dengan rasio 70% training, 30% testing\n",
        "X_train, X_test, y_train, y_test = train_test_split(\n",
        "    padded,\n",
        "    y,\n",
        "    test_size=0.3,     # 30% untuk testing\n",
        "    random_state=42,   # Untuk reproduksibilitas\n",
        "    stratify=y         # Menjaga distribusi kelas tetap seimbang\n",
        ")\n",
        "\n",
        "# Menampilkan dimensi hasil pembagian\n",
        "print(\"Dimensi X_train:\", X_train.shape)\n",
        "print(\"Dimensi y_train:\", y_train.shape)\n",
        "print(\"Dimensi X_test :\", X_test.shape)\n",
        "print(\"Dimensi y_test :\", y_test.shape)"
      ]
    },
    {
      "cell_type": "markdown",
      "metadata": {
        "id": "GO23Ur0Tdnr_"
      },
      "source": [
        "## 4) Siapkan classifier, tentukan variabel dan parameter"
      ]
    },
    {
      "cell_type": "code",
      "execution_count": null,
      "metadata": {
        "colab": {
          "base_uri": "https://localhost:8080/",
          "height": 300
        },
        "id": "yKSr3-V1dvYx",
        "outputId": "4466dafa-43fc-4d22-e7bf-4effa58f5608"
      },
      "outputs": [
        {
          "name": "stderr",
          "output_type": "stream",
          "text": [
            "/usr/local/lib/python3.11/dist-packages/keras/src/layers/core/embedding.py:90: UserWarning: Argument `input_length` is deprecated. Just remove it.\n",
            "  warnings.warn(\n"
          ]
        },
        {
          "data": {
            "text/html": [
              "<pre style=\"white-space:pre;overflow-x:auto;line-height:normal;font-family:Menlo,'DejaVu Sans Mono',consolas,'Courier New',monospace\"><span style=\"font-weight: bold\">Model: \"sequential\"</span>\n",
              "</pre>\n"
            ],
            "text/plain": [
              "\u001b[1mModel: \"sequential\"\u001b[0m\n"
            ]
          },
          "metadata": {},
          "output_type": "display_data"
        },
        {
          "data": {
            "text/html": [
              "<pre style=\"white-space:pre;overflow-x:auto;line-height:normal;font-family:Menlo,'DejaVu Sans Mono',consolas,'Courier New',monospace\">┏━━━━━━━━━━━━━━━━━━━━━━━━━━━━━━━━━┳━━━━━━━━━━━━━━━━━━━━━━━━┳━━━━━━━━━━━━━━━┓\n",
              "┃<span style=\"font-weight: bold\"> Layer (type)                    </span>┃<span style=\"font-weight: bold\"> Output Shape           </span>┃<span style=\"font-weight: bold\">       Param # </span>┃\n",
              "┡━━━━━━━━━━━━━━━━━━━━━━━━━━━━━━━━━╇━━━━━━━━━━━━━━━━━━━━━━━━╇━━━━━━━━━━━━━━━┩\n",
              "│ embedding (<span style=\"color: #0087ff; text-decoration-color: #0087ff\">Embedding</span>)           │ (<span style=\"color: #00d7ff; text-decoration-color: #00d7ff\">None</span>, <span style=\"color: #00af00; text-decoration-color: #00af00\">200</span>, <span style=\"color: #00af00; text-decoration-color: #00af00\">64</span>)        │       <span style=\"color: #00af00; text-decoration-color: #00af00\">320,000</span> │\n",
              "├─────────────────────────────────┼────────────────────────┼───────────────┤\n",
              "│ lstm (<span style=\"color: #0087ff; text-decoration-color: #0087ff\">LSTM</span>)                     │ (<span style=\"color: #00d7ff; text-decoration-color: #00d7ff\">None</span>, <span style=\"color: #00af00; text-decoration-color: #00af00\">64</span>)             │        <span style=\"color: #00af00; text-decoration-color: #00af00\">33,024</span> │\n",
              "├─────────────────────────────────┼────────────────────────┼───────────────┤\n",
              "│ dropout (<span style=\"color: #0087ff; text-decoration-color: #0087ff\">Dropout</span>)               │ (<span style=\"color: #00d7ff; text-decoration-color: #00d7ff\">None</span>, <span style=\"color: #00af00; text-decoration-color: #00af00\">64</span>)             │             <span style=\"color: #00af00; text-decoration-color: #00af00\">0</span> │\n",
              "├─────────────────────────────────┼────────────────────────┼───────────────┤\n",
              "│ dense (<span style=\"color: #0087ff; text-decoration-color: #0087ff\">Dense</span>)                   │ (<span style=\"color: #00d7ff; text-decoration-color: #00d7ff\">None</span>, <span style=\"color: #00af00; text-decoration-color: #00af00\">1</span>)              │            <span style=\"color: #00af00; text-decoration-color: #00af00\">65</span> │\n",
              "└─────────────────────────────────┴────────────────────────┴───────────────┘\n",
              "</pre>\n"
            ],
            "text/plain": [
              "┏━━━━━━━━━━━━━━━━━━━━━━━━━━━━━━━━━┳━━━━━━━━━━━━━━━━━━━━━━━━┳━━━━━━━━━━━━━━━┓\n",
              "┃\u001b[1m \u001b[0m\u001b[1mLayer (type)                   \u001b[0m\u001b[1m \u001b[0m┃\u001b[1m \u001b[0m\u001b[1mOutput Shape          \u001b[0m\u001b[1m \u001b[0m┃\u001b[1m \u001b[0m\u001b[1m      Param #\u001b[0m\u001b[1m \u001b[0m┃\n",
              "┡━━━━━━━━━━━━━━━━━━━━━━━━━━━━━━━━━╇━━━━━━━━━━━━━━━━━━━━━━━━╇━━━━━━━━━━━━━━━┩\n",
              "│ embedding (\u001b[38;5;33mEmbedding\u001b[0m)           │ (\u001b[38;5;45mNone\u001b[0m, \u001b[38;5;34m200\u001b[0m, \u001b[38;5;34m64\u001b[0m)        │       \u001b[38;5;34m320,000\u001b[0m │\n",
              "├─────────────────────────────────┼────────────────────────┼───────────────┤\n",
              "│ lstm (\u001b[38;5;33mLSTM\u001b[0m)                     │ (\u001b[38;5;45mNone\u001b[0m, \u001b[38;5;34m64\u001b[0m)             │        \u001b[38;5;34m33,024\u001b[0m │\n",
              "├─────────────────────────────────┼────────────────────────┼───────────────┤\n",
              "│ dropout (\u001b[38;5;33mDropout\u001b[0m)               │ (\u001b[38;5;45mNone\u001b[0m, \u001b[38;5;34m64\u001b[0m)             │             \u001b[38;5;34m0\u001b[0m │\n",
              "├─────────────────────────────────┼────────────────────────┼───────────────┤\n",
              "│ dense (\u001b[38;5;33mDense\u001b[0m)                   │ (\u001b[38;5;45mNone\u001b[0m, \u001b[38;5;34m1\u001b[0m)              │            \u001b[38;5;34m65\u001b[0m │\n",
              "└─────────────────────────────────┴────────────────────────┴───────────────┘\n"
            ]
          },
          "metadata": {},
          "output_type": "display_data"
        },
        {
          "data": {
            "text/html": [
              "<pre style=\"white-space:pre;overflow-x:auto;line-height:normal;font-family:Menlo,'DejaVu Sans Mono',consolas,'Courier New',monospace\"><span style=\"font-weight: bold\"> Total params: </span><span style=\"color: #00af00; text-decoration-color: #00af00\">353,089</span> (1.35 MB)\n",
              "</pre>\n"
            ],
            "text/plain": [
              "\u001b[1m Total params: \u001b[0m\u001b[38;5;34m353,089\u001b[0m (1.35 MB)\n"
            ]
          },
          "metadata": {},
          "output_type": "display_data"
        },
        {
          "data": {
            "text/html": [
              "<pre style=\"white-space:pre;overflow-x:auto;line-height:normal;font-family:Menlo,'DejaVu Sans Mono',consolas,'Courier New',monospace\"><span style=\"font-weight: bold\"> Trainable params: </span><span style=\"color: #00af00; text-decoration-color: #00af00\">353,089</span> (1.35 MB)\n",
              "</pre>\n"
            ],
            "text/plain": [
              "\u001b[1m Trainable params: \u001b[0m\u001b[38;5;34m353,089\u001b[0m (1.35 MB)\n"
            ]
          },
          "metadata": {},
          "output_type": "display_data"
        },
        {
          "data": {
            "text/html": [
              "<pre style=\"white-space:pre;overflow-x:auto;line-height:normal;font-family:Menlo,'DejaVu Sans Mono',consolas,'Courier New',monospace\"><span style=\"font-weight: bold\"> Non-trainable params: </span><span style=\"color: #00af00; text-decoration-color: #00af00\">0</span> (0.00 B)\n",
              "</pre>\n"
            ],
            "text/plain": [
              "\u001b[1m Non-trainable params: \u001b[0m\u001b[38;5;34m0\u001b[0m (0.00 B)\n"
            ]
          },
          "metadata": {},
          "output_type": "display_data"
        }
      ],
      "source": [
        "from tensorflow.keras.models import Sequential\n",
        "from tensorflow.keras.layers import Embedding, LSTM, Dense, Dropout\n",
        "from tensorflow.keras.callbacks import EarlyStopping\n",
        "\n",
        "# 1. Tentukan parameter model\n",
        "vocab_size = 5000      # Jumlah kata unik dalam tokenizer\n",
        "embedding_dim = 64     # Dimensi embedding\n",
        "max_length = 200       # Panjang maksimum urutan teks (dari padding)\n",
        "trunc_type = 'post'\n",
        "padding_type = 'post'\n",
        "oov_token = \"<OOV>\"\n",
        "units_lstm = 64        # Jumlah unit pada layer LSTM\n",
        "dropout_rate = 0.4     # Rate dropout untuk menghindari overfitting\n",
        "output_dim = 1         # Output dimensi (binary classification: 0 atau 1)\n",
        "\n",
        "# 2. Bangun model Sequential\n",
        "model = Sequential()\n",
        "\n",
        "# Layer Embedding: ubah token menjadi vektor embedding\n",
        "model.add(Embedding(input_dim=vocab_size, output_dim=embedding_dim, input_length=max_length))\n",
        "model.build(input_shape=(None, max_length))  # <-- Bangun model secara eksplisit\n",
        "\n",
        "# Layer LSTM: menangkap informasi kontekstual dari urutan teks\n",
        "model.add(LSTM(units=units_lstm))\n",
        "\n",
        "# Dropout Layer: mencegah overfitting\n",
        "model.add(Dropout(dropout_rate))\n",
        "\n",
        "# Layer Dense Output: binary classification (positif/negatif)\n",
        "model.add(Dense(output_dim, activation='sigmoid'))\n",
        "\n",
        "# 3. Compile model\n",
        "model.compile(\n",
        "    loss='binary_crossentropy',\n",
        "    optimizer='adam',\n",
        "    metrics=['accuracy']\n",
        ")\n",
        "\n",
        "# 4. Tampilkan ringkasan model\n",
        "model.summary()"
      ]
    },
    {
      "cell_type": "markdown",
      "metadata": {
        "id": "0gyb-pSQeUI_"
      },
      "source": [
        "## 5) Training classifier pada dataset\n",
        "\n"
      ]
    },
    {
      "cell_type": "code",
      "execution_count": null,
      "metadata": {
        "colab": {
          "base_uri": "https://localhost:8080/"
        },
        "id": "vu8aLibEekvK",
        "outputId": "48cd1284-4a13-4d4a-c873-234779e6d7b7"
      },
      "outputs": [
        {
          "name": "stdout",
          "output_type": "stream",
          "text": [
            "Epoch 1/10\n",
            "\u001b[1m543/543\u001b[0m \u001b[32m━━━━━━━━━━━━━━━━━━━━\u001b[0m\u001b[37m\u001b[0m \u001b[1m11s\u001b[0m 13ms/step - accuracy: 0.5142 - loss: 0.6929 - val_accuracy: 0.5505 - val_loss: 0.6811\n",
            "Epoch 2/10\n",
            "\u001b[1m543/543\u001b[0m \u001b[32m━━━━━━━━━━━━━━━━━━━━\u001b[0m\u001b[37m\u001b[0m \u001b[1m7s\u001b[0m 13ms/step - accuracy: 0.6336 - loss: 0.6353 - val_accuracy: 0.5431 - val_loss: 0.6793\n",
            "Epoch 3/10\n",
            "\u001b[1m543/543\u001b[0m \u001b[32m━━━━━━━━━━━━━━━━━━━━\u001b[0m\u001b[37m\u001b[0m \u001b[1m6s\u001b[0m 11ms/step - accuracy: 0.5837 - loss: 0.6586 - val_accuracy: 0.6026 - val_loss: 0.6416\n",
            "Epoch 4/10\n",
            "\u001b[1m543/543\u001b[0m \u001b[32m━━━━━━━━━━━━━━━━━━━━\u001b[0m\u001b[37m\u001b[0m \u001b[1m7s\u001b[0m 13ms/step - accuracy: 0.6923 - loss: 0.6121 - val_accuracy: 0.7313 - val_loss: 0.6211\n",
            "Epoch 5/10\n",
            "\u001b[1m543/543\u001b[0m \u001b[32m━━━━━━━━━━━━━━━━━━━━\u001b[0m\u001b[37m\u001b[0m \u001b[1m6s\u001b[0m 12ms/step - accuracy: 0.8047 - loss: 0.4751 - val_accuracy: 0.8357 - val_loss: 0.3752\n",
            "Epoch 6/10\n",
            "\u001b[1m543/543\u001b[0m \u001b[32m━━━━━━━━━━━━━━━━━━━━\u001b[0m\u001b[37m\u001b[0m \u001b[1m11s\u001b[0m 13ms/step - accuracy: 0.8676 - loss: 0.3333 - val_accuracy: 0.8608 - val_loss: 0.3316\n",
            "Epoch 7/10\n",
            "\u001b[1m543/543\u001b[0m \u001b[32m━━━━━━━━━━━━━━━━━━━━\u001b[0m\u001b[37m\u001b[0m \u001b[1m10s\u001b[0m 13ms/step - accuracy: 0.8928 - loss: 0.2740 - val_accuracy: 0.8694 - val_loss: 0.3171\n",
            "Epoch 8/10\n",
            "\u001b[1m543/543\u001b[0m \u001b[32m━━━━━━━━━━━━━━━━━━━━\u001b[0m\u001b[37m\u001b[0m \u001b[1m11s\u001b[0m 13ms/step - accuracy: 0.9076 - loss: 0.2438 - val_accuracy: 0.8617 - val_loss: 0.3234\n",
            "Epoch 9/10\n",
            "\u001b[1m543/543\u001b[0m \u001b[32m━━━━━━━━━━━━━━━━━━━━\u001b[0m\u001b[37m\u001b[0m \u001b[1m10s\u001b[0m 13ms/step - accuracy: 0.9199 - loss: 0.2138 - val_accuracy: 0.8723 - val_loss: 0.3337\n",
            "Epoch 10/10\n",
            "\u001b[1m543/543\u001b[0m \u001b[32m━━━━━━━━━━━━━━━━━━━━\u001b[0m\u001b[37m\u001b[0m \u001b[1m6s\u001b[0m 11ms/step - accuracy: 0.9359 - loss: 0.1811 - val_accuracy: 0.8721 - val_loss: 0.3493\n"
          ]
        }
      ],
      "source": [
        "# Pastikan X_train, X_test, y_train, y_test sudah tersedia dari proses sebelumnya\n",
        "\n",
        "from tensorflow.keras.callbacks import EarlyStopping\n",
        "\n",
        "# (Opsional) Tambahkan callback untuk menghentikan pelatihan jika tidak ada peningkatan\n",
        "early_stop = EarlyStopping(\n",
        "    monitor='val_loss',\n",
        "    patience=3,\n",
        "    restore_best_weights=True\n",
        ")\n",
        "\n",
        "# Latih model\n",
        "history = model.fit(\n",
        "    X_train,\n",
        "    y_train,\n",
        "    epochs=10,                     # Jumlah maksimal epoch\n",
        "    batch_size=64,                 # Ukuran batch per iterasi\n",
        "    validation_data=(X_test, y_test),\n",
        "    verbose=1,                     # Menampilkan detail tiap epoch\n",
        "    callbacks=[early_stop]         # Gunakan early stopping\n",
        ")"
      ]
    },
    {
      "cell_type": "markdown",
      "metadata": {
        "id": "5G5O7W6Ynh6Q"
      },
      "source": [
        "## 6) Lakukan pengujian dengan data uji\n",
        "\n"
      ]
    },
    {
      "cell_type": "code",
      "execution_count": null,
      "metadata": {
        "colab": {
          "base_uri": "https://localhost:8080/"
        },
        "id": "KZgeI3ISnjw9",
        "outputId": "e9e6bdb1-a3ca-4c80-979e-427d2cff3f93"
      },
      "outputs": [
        {
          "name": "stdout",
          "output_type": "stream",
          "text": [
            "\u001b[1m465/465\u001b[0m \u001b[32m━━━━━━━━━━━━━━━━━━━━\u001b[0m\u001b[37m\u001b[0m \u001b[1m3s\u001b[0m 5ms/step\n"
          ]
        }
      ],
      "source": [
        "# Pengujian dengan data uji\n",
        "import numpy as np\n",
        "from sklearn.metrics import accuracy_score, classification_report, confusion_matrix\n",
        "\n",
        "# Lakukan prediksi probabilitas\n",
        "y_pred_proba = model.predict(X_test)\n",
        "\n",
        "# Konversi probabilitas ke label biner (0 atau 1)\n",
        "y_pred = (y_pred_proba > 0.5).astype(int)"
      ]
    },
    {
      "cell_type": "code",
      "execution_count": null,
      "metadata": {
        "colab": {
          "base_uri": "https://localhost:8080/"
        },
        "id": "p7vqR4Lsnlc9",
        "outputId": "c8075264-834e-4774-8ed7-a39148adeac6"
      },
      "outputs": [
        {
          "name": "stdout",
          "output_type": "stream",
          "text": [
            "Prediksi (biner): [1 1 1 1 0 1 0 1 1 0]\n",
            "Label Aktual (biner): [1 1 1 1 0 1 0 0 1 0]\n"
          ]
        }
      ],
      "source": [
        "# Menampilkan 10 prediksi pertama dan label aktual (jika y_test adalah numpy array)\n",
        "print(\"Prediksi (biner):\", y_pred[:10].flatten())\n",
        "print(\"Label Aktual (biner):\", y_test[:10])"
      ]
    },
    {
      "cell_type": "markdown",
      "metadata": {
        "id": "GwA-fk0in5pS"
      },
      "source": [
        "## 7) Analisa performansi model\n"
      ]
    },
    {
      "cell_type": "markdown",
      "metadata": {
        "id": "FsWmSzeBn5pS"
      },
      "source": [
        "### a) Menggunakan accuracy score"
      ]
    },
    {
      "cell_type": "code",
      "execution_count": null,
      "metadata": {
        "colab": {
          "base_uri": "https://localhost:8080/"
        },
        "id": "_0l0yiNfn5pS",
        "outputId": "6b687780-efd5-4037-e392-5f52b495ee3c"
      },
      "outputs": [
        {
          "name": "stdout",
          "output_type": "stream",
          "text": [
            "Accuracy Score: 0.8693781512605042\n"
          ]
        }
      ],
      "source": [
        "# Accuracy Score\n",
        "from sklearn.metrics import accuracy_score\n",
        "\n",
        "accuracy = accuracy_score(y_test, y_pred)\n",
        "print(\"Accuracy Score:\", accuracy)"
      ]
    },
    {
      "cell_type": "markdown",
      "metadata": {
        "id": "v-6dkMtkn5pT"
      },
      "source": [
        "### b) Menggunakan Confusion Matrix"
      ]
    },
    {
      "cell_type": "code",
      "execution_count": null,
      "metadata": {
        "colab": {
          "base_uri": "https://localhost:8080/",
          "height": 419
        },
        "id": "Wvj9S5ken5pT",
        "outputId": "345c77dd-79b4-4547-f008-db8a50925c4f"
      },
      "outputs": [
        {
          "data": {
            "image/png": "[encoded data removed]",
            "text/plain": [
              "<Figure size 600x400 with 1 Axes>"
            ]
          },
          "metadata": {},
          "output_type": "display_data"
        }
      ],
      "source": [
        "# 2. Confusion Matrix\n",
        "cm = confusion_matrix(y_test, y_pred)\n",
        "\n",
        "plt.figure(figsize=(6, 4))\n",
        "sns.heatmap(cm, annot=True, fmt='d', cmap='Blues', cbar=False)\n",
        "plt.title(\"Confusion Matrix\")\n",
        "plt.xlabel(\"Prediksi\")\n",
        "plt.ylabel(\"Aktual\")\n",
        "plt.xticks(ticks=[0.5, 1.5], labels=['Negative', 'Positive'])\n",
        "plt.yticks(ticks=[0.5, 1.5], labels=['Negative', 'Positive'])\n",
        "plt.show()"
      ]
    },
    {
      "cell_type": "markdown",
      "metadata": {
        "id": "LJO0iwhRn5pT"
      },
      "source": [
        "### c) Menggunakan Classification Report"
      ]
    },
    {
      "cell_type": "code",
      "execution_count": null,
      "metadata": {
        "colab": {
          "base_uri": "https://localhost:8080/"
        },
        "id": "P7D0Bdv3n5pT",
        "outputId": "46a024bf-4a77-4bc8-a906-88dac0eb0656"
      },
      "outputs": [
        {
          "name": "stdout",
          "output_type": "stream",
          "text": [
            "\n",
            "Classification Report:\n",
            "              precision    recall  f1-score   support\n",
            "\n",
            "    Negative       0.88      0.85      0.87      7410\n",
            "    Positive       0.86      0.89      0.87      7465\n",
            "\n",
            "    accuracy                           0.87     14875\n",
            "   macro avg       0.87      0.87      0.87     14875\n",
            "weighted avg       0.87      0.87      0.87     14875\n",
            "\n"
          ]
        }
      ],
      "source": [
        "# 3. Classification Report\n",
        "print(\"\\nClassification Report:\")\n",
        "print(classification_report(y_test, y_pred, target_names=['Negative', 'Positive']))"
      ]
    },
    {
      "cell_type": "markdown",
      "metadata": {
        "id": "nJ8ujHMCg1Jp"
      },
      "source": [
        "## 8) Menampilkan plot tree"
      ]
    },
    {
      "cell_type": "code",
      "execution_count": null,
      "metadata": {
        "colab": {
          "base_uri": "https://localhost:8080/"
        },
        "id": "9iYNHKKoHtYw",
        "outputId": "0c34f21e-118f-4ea3-f362-311c784c555e"
      },
      "outputs": [
        {
          "name": "stdout",
          "output_type": "stream",
          "text": [
            "Note: Plot tree tidak dapat diaplikasikan untuk model Neural Network. Neural Network tidak memiliki struktur seperti Decision Tree.\n"
          ]
        }
      ],
      "source": [
        "# Code menampilkan plot tree\n",
        "print(\"Note: Plot tree tidak dapat diaplikasikan untuk model Neural Network. Neural Network tidak memiliki struktur seperti Decision Tree.\")"
      ]
    },
    {
      "cell_type": "markdown",
      "metadata": {
        "id": "E7TmgdI6oLwJ"
      },
      "source": [
        "## 9) Kesimpulan sebelum HPO\n",
        "\n",
        "\"Model LSTM yang telah dibangun berhasil mencapai akurasi 87.16% pada data uji dengan nilai F1-score rata-rata 0.87 , menunjukkan performa yang cukup baik dalam mengklasifikasikan sentimen ulasan IMDB. Namun, terdapat indikasi overfitting , dimana training accuracy meningkat hingga 91.34% sementara validation accuracy stagnan di sekitar 86–87% . Selain itu, confusion matrix menunjukkan bahwa model cenderung membuat kesalahan prediksi pada kelas minoritas ('Negative'). Untuk meningkatkan generalisasi dan mengurangi overfitting, dilakukan Hyperparameter Optimization (HPO) menggunakan RandomizedSearchCV guna menemukan kombinasi hyperparameter terbaik.\""
      ]
    },
    {
      "cell_type": "markdown",
      "metadata": {
        "id": "_g2K6um0oNnF"
      },
      "source": [
        "## 10) Optimasi: HPO dengan RandomizedSearchCV"
      ]
    },
    {
      "cell_type": "code",
      "execution_count": null,
      "metadata": {
        "colab": {
          "base_uri": "https://localhost:8080/"
        },
        "id": "H7e8gL21oUK7",
        "outputId": "cef8d55f-5d8b-4fde-adef-91620bad3ede"
      },
      "outputs": [
        {
          "name": "stdout",
          "output_type": "stream",
          "text": [
            "Training with lstm_units=32, dropout_rate=0.3, embedding_dim=50, batch_size=64, epochs=5\n",
            "\u001b[1m310/310\u001b[0m \u001b[32m━━━━━━━━━━━━━━━━━━━━\u001b[0m\u001b[37m\u001b[0m \u001b[1m1s\u001b[0m 4ms/step\n",
            "Training with lstm_units=32, dropout_rate=0.3, embedding_dim=50, batch_size=128, epochs=5\n",
            "\u001b[1m310/310\u001b[0m \u001b[32m━━━━━━━━━━━━━━━━━━━━\u001b[0m\u001b[37m\u001b[0m \u001b[1m2s\u001b[0m 5ms/step\n",
            "Training with lstm_units=32, dropout_rate=0.3, embedding_dim=100, batch_size=64, epochs=5\n",
            "\u001b[1m310/310\u001b[0m \u001b[32m━━━━━━━━━━━━━━━━━━━━\u001b[0m\u001b[37m\u001b[0m \u001b[1m1s\u001b[0m 4ms/step\n",
            "Training with lstm_units=32, dropout_rate=0.3, embedding_dim=100, batch_size=128, epochs=5\n",
            "\u001b[1m310/310\u001b[0m \u001b[32m━━━━━━━━━━━━━━━━━━━━\u001b[0m\u001b[37m\u001b[0m \u001b[1m2s\u001b[0m 6ms/step\n",
            "Training with lstm_units=32, dropout_rate=0.5, embedding_dim=50, batch_size=64, epochs=5\n",
            "\u001b[1m310/310\u001b[0m \u001b[32m━━━━━━━━━━━━━━━━━━━━\u001b[0m\u001b[37m\u001b[0m \u001b[1m1s\u001b[0m 4ms/step\n",
            "Training with lstm_units=32, dropout_rate=0.5, embedding_dim=50, batch_size=128, epochs=5\n",
            "\u001b[1m310/310\u001b[0m \u001b[32m━━━━━━━━━━━━━━━━━━━━\u001b[0m\u001b[37m\u001b[0m \u001b[1m1s\u001b[0m 4ms/step\n",
            "Training with lstm_units=32, dropout_rate=0.5, embedding_dim=100, batch_size=64, epochs=5\n",
            "\u001b[1m310/310\u001b[0m \u001b[32m━━━━━━━━━━━━━━━━━━━━\u001b[0m\u001b[37m\u001b[0m \u001b[1m1s\u001b[0m 4ms/step\n",
            "Training with lstm_units=32, dropout_rate=0.5, embedding_dim=100, batch_size=128, epochs=5\n",
            "\u001b[1m310/310\u001b[0m \u001b[32m━━━━━━━━━━━━━━━━━━━━\u001b[0m\u001b[37m\u001b[0m \u001b[1m1s\u001b[0m 4ms/step\n",
            "Training with lstm_units=64, dropout_rate=0.3, embedding_dim=50, batch_size=64, epochs=5\n",
            "\u001b[1m310/310\u001b[0m \u001b[32m━━━━━━━━━━━━━━━━━━━━\u001b[0m\u001b[37m\u001b[0m \u001b[1m1s\u001b[0m 4ms/step\n",
            "Training with lstm_units=64, dropout_rate=0.3, embedding_dim=50, batch_size=128, epochs=5\n",
            "\u001b[1m310/310\u001b[0m \u001b[32m━━━━━━━━━━━━━━━━━━━━\u001b[0m\u001b[37m\u001b[0m \u001b[1m1s\u001b[0m 4ms/step\n",
            "Training with lstm_units=64, dropout_rate=0.3, embedding_dim=100, batch_size=64, epochs=5\n",
            "\u001b[1m310/310\u001b[0m \u001b[32m━━━━━━━━━━━━━━━━━━━━\u001b[0m\u001b[37m\u001b[0m \u001b[1m2s\u001b[0m 5ms/step\n",
            "Training with lstm_units=64, dropout_rate=0.3, embedding_dim=100, batch_size=128, epochs=5\n",
            "\u001b[1m310/310\u001b[0m \u001b[32m━━━━━━━━━━━━━━━━━━━━\u001b[0m\u001b[37m\u001b[0m \u001b[1m2s\u001b[0m 5ms/step\n",
            "Training with lstm_units=64, dropout_rate=0.5, embedding_dim=50, batch_size=64, epochs=5\n",
            "\u001b[1m310/310\u001b[0m \u001b[32m━━━━━━━━━━━━━━━━━━━━\u001b[0m\u001b[37m\u001b[0m \u001b[1m1s\u001b[0m 4ms/step\n",
            "Training with lstm_units=64, dropout_rate=0.5, embedding_dim=50, batch_size=128, epochs=5\n",
            "\u001b[1m310/310\u001b[0m \u001b[32m━━━━━━━━━━━━━━━━━━━━\u001b[0m\u001b[37m\u001b[0m \u001b[1m1s\u001b[0m 4ms/step\n",
            "Training with lstm_units=64, dropout_rate=0.5, embedding_dim=100, batch_size=64, epochs=5\n",
            "\u001b[1m310/310\u001b[0m \u001b[32m━━━━━━━━━━━━━━━━━━━━\u001b[0m\u001b[37m\u001b[0m \u001b[1m1s\u001b[0m 4ms/step\n",
            "Training with lstm_units=64, dropout_rate=0.5, embedding_dim=100, batch_size=128, epochs=5\n",
            "\u001b[1m310/310\u001b[0m \u001b[32m━━━━━━━━━━━━━━━━━━━━\u001b[0m\u001b[37m\u001b[0m \u001b[1m1s\u001b[0m 4ms/step\n",
            "Best parameters:  {'lstm_units': 32, 'dropout_rate': 0.5, 'embedding_dim': 100, 'batch_size': 128, 'epochs': 5}\n",
            "Best validation accuracy:  0.8823232832509832\n"
          ]
        }
      ],
      "source": [
        "import numpy as np\n",
        "from tensorflow.keras.models import Sequential\n",
        "from tensorflow.keras.layers import Embedding, LSTM, Dense, Dropout\n",
        "from tensorflow.keras.preprocessing.text import Tokenizer\n",
        "from tensorflow.keras.preprocessing.sequence import pad_sequences\n",
        "from sklearn.model_selection import train_test_split\n",
        "from sklearn.metrics import accuracy_score\n",
        "\n",
        "# 1. Preprocessing teks\n",
        "max_words = 10000\n",
        "max_len = 200\n",
        "\n",
        "tokenizer = Tokenizer(num_words=max_words)\n",
        "tokenizer.fit_on_texts(X)\n",
        "X_seq = tokenizer.texts_to_sequences(X)\n",
        "X_pad = pad_sequences(X_seq, maxlen=max_len)\n",
        "\n",
        "# 2. Split data\n",
        "X_train, X_val, y_train, y_val = train_test_split(X_pad, y, test_size=0.2, random_state=42)\n",
        "\n",
        "# 3. Definisikan parameter untuk grid search (reduced for faster testing)\n",
        "param_grid = {\n",
        "    'lstm_units': [32, 64],\n",
        "    'dropout_rate': [0.3, 0.5],\n",
        "    'embedding_dim': [50, 100],\n",
        "    'batch_size': [64, 128],\n",
        "    'epochs': [5]\n",
        "}\n",
        "\n",
        "# 4. Fungsi untuk membuat model\n",
        "def create_model(lstm_units, dropout_rate, embedding_dim):\n",
        "    model = Sequential([\n",
        "        Embedding(input_dim=10000, output_dim=embedding_dim),\n",
        "        LSTM(units=lstm_units, return_sequences=False),\n",
        "        Dropout(dropout_rate),\n",
        "        Dense(1, activation='sigmoid')\n",
        "    ])\n",
        "    model.compile(optimizer='adam', loss='binary_crossentropy', metrics=['accuracy'])\n",
        "    return model\n",
        "\n",
        "# 5. Manual grid search\n",
        "best_score = 0\n",
        "best_params = {}\n",
        "results = []\n",
        "\n",
        "for lstm_units in param_grid['lstm_units']:\n",
        "    for dropout_rate in param_grid['dropout_rate']:\n",
        "        for embedding_dim in param_grid['embedding_dim']:\n",
        "            for batch_size in param_grid['batch_size']:\n",
        "                for epochs in param_grid['epochs']:\n",
        "                    print(f\"Training with lstm_units={lstm_units}, dropout_rate={dropout_rate}, embedding_dim={embedding_dim}, batch_size={batch_size}, epochs={epochs}\")\n",
        "\n",
        "                    # Buat dan latih model\n",
        "                    model = create_model(lstm_units, dropout_rate, embedding_dim)\n",
        "                    model.fit(X_train, y_train, batch_size=batch_size, epochs=epochs, verbose=0, validation_data=(X_val, y_val))\n",
        "\n",
        "                    # Evaluasi model\n",
        "                    y_pred = (model.predict(X_val) > 0.5).astype(int)\n",
        "                    score = accuracy_score(y_val, y_pred)\n",
        "\n",
        "                    # Simpan hasil\n",
        "                    results.append({\n",
        "                        'lstm_units': lstm_units,\n",
        "                        'dropout_rate': dropout_rate,\n",
        "                        'embedding_dim': embedding_dim,\n",
        "                        'batch_size': batch_size,\n",
        "                        'epochs': epochs,\n",
        "                        'accuracy': score\n",
        "                    })\n",
        "\n",
        "                    # Update parameter terbaik\n",
        "                    if score > best_score:\n",
        "                        best_score = score\n",
        "                        best_params = {\n",
        "                            'lstm_units': lstm_units,\n",
        "                            'dropout_rate': dropout_rate,\n",
        "                            'embedding_dim': embedding_dim,\n",
        "                            'batch_size': batch_size,\n",
        "                            'epochs': epochs\n",
        "                        }\n",
        "\n",
        "# 6. Tampilkan hasil terbaik\n",
        "print(\"Best parameters: \", best_params)\n",
        "print(\"Best validation accuracy: \", best_score)"
      ]
    },
    {
      "cell_type": "markdown",
      "metadata": {
        "id": "KTiIzCwnaWod"
      },
      "source": [
        "## 11) Implementasi best parameter pada model\n",
        "\n",
        "Siapkan classifier ke 2 dan tentukan variabel/parameternya"
      ]
    },
    {
      "cell_type": "code",
      "execution_count": null,
      "metadata": {
        "colab": {
          "base_uri": "https://localhost:8080/",
          "height": 282
        },
        "id": "iIMDKr9aatAX",
        "outputId": "e8af45a4-a37e-482f-bcd1-b2337148857d"
      },
      "outputs": [
        {
          "name": "stdout",
          "output_type": "stream",
          "text": [
            "Classifier ke-2 Architecture:\n"
          ]
        },
        {
          "data": {
            "text/html": [
              "<pre style=\"white-space:pre;overflow-x:auto;line-height:normal;font-family:Menlo,'DejaVu Sans Mono',consolas,'Courier New',monospace\"><span style=\"font-weight: bold\">Model: \"sequential_47\"</span>\n",
              "</pre>\n"
            ],
            "text/plain": [
              "\u001b[1mModel: \"sequential_47\"\u001b[0m\n"
            ]
          },
          "metadata": {},
          "output_type": "display_data"
        },
        {
          "data": {
            "text/html": [
              "<pre style=\"white-space:pre;overflow-x:auto;line-height:normal;font-family:Menlo,'DejaVu Sans Mono',consolas,'Courier New',monospace\">┏━━━━━━━━━━━━━━━━━━━━━━━━━━━━━━━━━┳━━━━━━━━━━━━━━━━━━━━━━━━┳━━━━━━━━━━━━━━━┓\n",
              "┃<span style=\"font-weight: bold\"> Layer (type)                    </span>┃<span style=\"font-weight: bold\"> Output Shape           </span>┃<span style=\"font-weight: bold\">       Param # </span>┃\n",
              "┡━━━━━━━━━━━━━━━━━━━━━━━━━━━━━━━━━╇━━━━━━━━━━━━━━━━━━━━━━━━╇━━━━━━━━━━━━━━━┩\n",
              "│ embedding_47 (<span style=\"color: #0087ff; text-decoration-color: #0087ff\">Embedding</span>)        │ ?                      │   <span style=\"color: #00af00; text-decoration-color: #00af00\">0</span> (unbuilt) │\n",
              "├─────────────────────────────────┼────────────────────────┼───────────────┤\n",
              "│ lstm_47 (<span style=\"color: #0087ff; text-decoration-color: #0087ff\">LSTM</span>)                  │ ?                      │   <span style=\"color: #00af00; text-decoration-color: #00af00\">0</span> (unbuilt) │\n",
              "├─────────────────────────────────┼────────────────────────┼───────────────┤\n",
              "│ dropout_47 (<span style=\"color: #0087ff; text-decoration-color: #0087ff\">Dropout</span>)            │ ?                      │             <span style=\"color: #00af00; text-decoration-color: #00af00\">0</span> │\n",
              "├─────────────────────────────────┼────────────────────────┼───────────────┤\n",
              "│ dense_47 (<span style=\"color: #0087ff; text-decoration-color: #0087ff\">Dense</span>)                │ ?                      │   <span style=\"color: #00af00; text-decoration-color: #00af00\">0</span> (unbuilt) │\n",
              "└─────────────────────────────────┴────────────────────────┴───────────────┘\n",
              "</pre>\n"
            ],
            "text/plain": [
              "┏━━━━━━━━━━━━━━━━━━━━━━━━━━━━━━━━━┳━━━━━━━━━━━━━━━━━━━━━━━━┳━━━━━━━━━━━━━━━┓\n",
              "┃\u001b[1m \u001b[0m\u001b[1mLayer (type)                   \u001b[0m\u001b[1m \u001b[0m┃\u001b[1m \u001b[0m\u001b[1mOutput Shape          \u001b[0m\u001b[1m \u001b[0m┃\u001b[1m \u001b[0m\u001b[1m      Param #\u001b[0m\u001b[1m \u001b[0m┃\n",
              "┡━━━━━━━━━━━━━━━━━━━━━━━━━━━━━━━━━╇━━━━━━━━━━━━━━━━━━━━━━━━╇━━━━━━━━━━━━━━━┩\n",
              "│ embedding_47 (\u001b[38;5;33mEmbedding\u001b[0m)        │ ?                      │   \u001b[38;5;34m0\u001b[0m (unbuilt) │\n",
              "├─────────────────────────────────┼────────────────────────┼───────────────┤\n",
              "│ lstm_47 (\u001b[38;5;33mLSTM\u001b[0m)                  │ ?                      │   \u001b[38;5;34m0\u001b[0m (unbuilt) │\n",
              "├─────────────────────────────────┼────────────────────────┼───────────────┤\n",
              "│ dropout_47 (\u001b[38;5;33mDropout\u001b[0m)            │ ?                      │             \u001b[38;5;34m0\u001b[0m │\n",
              "├─────────────────────────────────┼────────────────────────┼───────────────┤\n",
              "│ dense_47 (\u001b[38;5;33mDense\u001b[0m)                │ ?                      │   \u001b[38;5;34m0\u001b[0m (unbuilt) │\n",
              "└─────────────────────────────────┴────────────────────────┴───────────────┘\n"
            ]
          },
          "metadata": {},
          "output_type": "display_data"
        },
        {
          "data": {
            "text/html": [
              "<pre style=\"white-space:pre;overflow-x:auto;line-height:normal;font-family:Menlo,'DejaVu Sans Mono',consolas,'Courier New',monospace\"><span style=\"font-weight: bold\"> Total params: </span><span style=\"color: #00af00; text-decoration-color: #00af00\">0</span> (0.00 B)\n",
              "</pre>\n"
            ],
            "text/plain": [
              "\u001b[1m Total params: \u001b[0m\u001b[38;5;34m0\u001b[0m (0.00 B)\n"
            ]
          },
          "metadata": {},
          "output_type": "display_data"
        },
        {
          "data": {
            "text/html": [
              "<pre style=\"white-space:pre;overflow-x:auto;line-height:normal;font-family:Menlo,'DejaVu Sans Mono',consolas,'Courier New',monospace\"><span style=\"font-weight: bold\"> Trainable params: </span><span style=\"color: #00af00; text-decoration-color: #00af00\">0</span> (0.00 B)\n",
              "</pre>\n"
            ],
            "text/plain": [
              "\u001b[1m Trainable params: \u001b[0m\u001b[38;5;34m0\u001b[0m (0.00 B)\n"
            ]
          },
          "metadata": {},
          "output_type": "display_data"
        },
        {
          "data": {
            "text/html": [
              "<pre style=\"white-space:pre;overflow-x:auto;line-height:normal;font-family:Menlo,'DejaVu Sans Mono',consolas,'Courier New',monospace\"><span style=\"font-weight: bold\"> Non-trainable params: </span><span style=\"color: #00af00; text-decoration-color: #00af00\">0</span> (0.00 B)\n",
              "</pre>\n"
            ],
            "text/plain": [
              "\u001b[1m Non-trainable params: \u001b[0m\u001b[38;5;34m0\u001b[0m (0.00 B)\n"
            ]
          },
          "metadata": {},
          "output_type": "display_data"
        }
      ],
      "source": [
        "# Code untuk classifier ke 2\n",
        "import numpy as np\n",
        "from tensorflow.keras.models import Sequential\n",
        "from tensorflow.keras.layers import Embedding, LSTM, Dense, Dropout\n",
        "from tensorflow.keras.preprocessing.text import Tokenizer\n",
        "from tensorflow.keras.preprocessing.sequence import pad_sequences\n",
        "from sklearn.model_selection import train_test_split\n",
        "\n",
        "# 1. Preprocessing teks (consistent with manual grid search)\n",
        "max_words = 10000\n",
        "max_len = 200\n",
        "\n",
        "tokenizer = Tokenizer(num_words=max_words)\n",
        "tokenizer.fit_on_texts(X)  # X is df['review']\n",
        "X_seq = tokenizer.texts_to_sequences(X)\n",
        "X_pad = pad_sequences(X_seq, maxlen=max_len)\n",
        "\n",
        "# 2. Split data into train and test sets (80-20 split)\n",
        "X_train, X_test, y_train, y_test = train_test_split(X_pad, y, test_size=0.2, random_state=42)\n",
        "\n",
        "# 3. Best parameters from manual grid search\n",
        "best_params = {\n",
        "    'lstm_units': 32,\n",
        "    'dropout_rate': 0.5,\n",
        "    'embedding_dim': 100,\n",
        "    'batch_size': 128,\n",
        "    'epochs': 5\n",
        "}\n",
        "\n",
        "# 4. Define Classifier ke-2 using best parameters\n",
        "def create_classifier_2(lstm_units, dropout_rate, embedding_dim):\n",
        "    model = Sequential([\n",
        "        Embedding(input_dim=max_words, output_dim=embedding_dim),\n",
        "        LSTM(units=lstm_units, return_sequences=False),\n",
        "        Dropout(dropout_rate),\n",
        "        Dense(1, activation='sigmoid')\n",
        "    ])\n",
        "    model.compile(optimizer='adam', loss='binary_crossentropy', metrics=['accuracy'])\n",
        "    return model\n",
        "\n",
        "# 5. Initialize Classifier ke-2 with best parameters\n",
        "classifier_2 = create_classifier_2(\n",
        "    lstm_units=best_params['lstm_units'],\n",
        "    dropout_rate=best_params['dropout_rate'],\n",
        "    embedding_dim=best_params['embedding_dim']\n",
        ")\n",
        "\n",
        "# Print model summary\n",
        "print(\"Classifier ke-2 Architecture:\")\n",
        "classifier_2.summary()"
      ]
    },
    {
      "cell_type": "markdown",
      "metadata": {
        "id": "b3YxDDYta2M_"
      },
      "source": [
        "## 12) Lakukan proses training dengan data latih"
      ]
    },
    {
      "cell_type": "code",
      "execution_count": null,
      "metadata": {
        "colab": {
          "base_uri": "https://localhost:8080/",
          "height": 669
        },
        "id": "MLajUMqHa5q6",
        "outputId": "bd7b08e7-4585-45cf-b328-25f26e86dcf5"
      },
      "outputs": [
        {
          "name": "stdout",
          "output_type": "stream",
          "text": [
            "Training Classifier ke-2...\n",
            "Epoch 1/5\n",
            "\u001b[1m248/248\u001b[0m \u001b[32m━━━━━━━━━━━━━━━━━━━━\u001b[0m\u001b[37m\u001b[0m \u001b[1m7s\u001b[0m 14ms/step - accuracy: 0.7171 - loss: 0.5402 - val_accuracy: 0.8559 - val_loss: 0.3435\n",
            "Epoch 2/5\n",
            "\u001b[1m248/248\u001b[0m \u001b[32m━━━━━━━━━━━━━━━━━━━━\u001b[0m\u001b[37m\u001b[0m \u001b[1m4s\u001b[0m 14ms/step - accuracy: 0.9066 - loss: 0.2502 - val_accuracy: 0.8666 - val_loss: 0.3239\n",
            "Epoch 3/5\n",
            "\u001b[1m248/248\u001b[0m \u001b[32m━━━━━━━━━━━━━━━━━━━━\u001b[0m\u001b[37m\u001b[0m \u001b[1m5s\u001b[0m 12ms/step - accuracy: 0.9274 - loss: 0.1972 - val_accuracy: 0.8824 - val_loss: 0.3163\n",
            "Epoch 4/5\n",
            "\u001b[1m248/248\u001b[0m \u001b[32m━━━━━━━━━━━━━━━━━━━━\u001b[0m\u001b[37m\u001b[0m \u001b[1m3s\u001b[0m 11ms/step - accuracy: 0.9458 - loss: 0.1523 - val_accuracy: 0.8789 - val_loss: 0.3554\n",
            "Epoch 5/5\n",
            "\u001b[1m248/248\u001b[0m \u001b[32m━━━━━━━━━━━━━━━━━━━━\u001b[0m\u001b[37m\u001b[0m \u001b[1m3s\u001b[0m 11ms/step - accuracy: 0.9600 - loss: 0.1225 - val_accuracy: 0.8776 - val_loss: 0.3532\n",
            "Training completed.\n",
            "Final training accuracy: 0.9564\n",
            "Final validation accuracy: 0.8776\n"
          ]
        },
        {
          "data": {
            "image/png": "[encoded data removed]",
            "text/plain": [
              "<Figure size 800x400 with 1 Axes>"
            ]
          },
          "metadata": {},
          "output_type": "display_data"
        }
      ],
      "source": [
        "# Code training pada classifier ke 2\n",
        "from tensorflow.keras.callbacks import EarlyStopping\n",
        "\n",
        "# 1. Training parameters from best_params\n",
        "batch_size = best_params['batch_size']\n",
        "epochs = best_params['epochs']\n",
        "\n",
        "# 2. Add early stopping to prevent overfitting\n",
        "early_stopping = EarlyStopping(monitor='val_loss', patience=2, restore_best_weights=True)\n",
        "\n",
        "# 3. Train Classifier ke-2\n",
        "print(\"Training Classifier ke-2...\")\n",
        "history = classifier_2.fit(\n",
        "    X_train,\n",
        "    y_train,\n",
        "    batch_size=batch_size,\n",
        "    epochs=epochs,\n",
        "    validation_split=0.2,  # Use 20% of training data for validation\n",
        "    callbacks=[early_stopping],\n",
        "    verbose=1\n",
        ")\n",
        "\n",
        "# 4. Print training results\n",
        "print(\"Training completed.\")\n",
        "print(f\"Final training accuracy: {history.history['accuracy'][-1]:.4f}\")\n",
        "print(f\"Final validation accuracy: {history.history['val_accuracy'][-1]:.4f}\")\n",
        "\n",
        "# Optional: Plot training and validation accuracy\n",
        "import matplotlib.pyplot as plt\n",
        "\n",
        "plt.figure(figsize=(8, 4))\n",
        "plt.plot(history.history['accuracy'], label='Training Accuracy')\n",
        "plt.plot(history.history['val_accuracy'], label='Validation Accuracy')\n",
        "plt.title('Training and Validation Accuracy')\n",
        "plt.xlabel('Epoch')\n",
        "plt.ylabel('Accuracy')\n",
        "plt.legend()\n",
        "plt.show()"
      ]
    },
    {
      "cell_type": "markdown",
      "metadata": {
        "id": "KKTWhJ0na9z4"
      },
      "source": [
        "## 13) Lakukan pengujian dengan data uji"
      ]
    },
    {
      "cell_type": "code",
      "execution_count": null,
      "metadata": {
        "colab": {
          "base_uri": "https://localhost:8080/",
          "height": 651
        },
        "id": "FDkqgSKjaga_",
        "outputId": "9510a815-52b3-4bcc-ac58-9f0112985a6e"
      },
      "outputs": [
        {
          "name": "stdout",
          "output_type": "stream",
          "text": [
            "\u001b[1m310/310\u001b[0m \u001b[32m━━━━━━━━━━━━━━━━━━━━\u001b[0m\u001b[37m\u001b[0m \u001b[1m2s\u001b[0m 7ms/step\n",
            "Test accuracy: 0.8801\n",
            "\n",
            "Classification Report:\n",
            "              precision    recall  f1-score   support\n",
            "\n",
            "    Negative       0.88      0.88      0.88      4939\n",
            "    Positive       0.88      0.88      0.88      4978\n",
            "\n",
            "    accuracy                           0.88      9917\n",
            "   macro avg       0.88      0.88      0.88      9917\n",
            "weighted avg       0.88      0.88      0.88      9917\n",
            "\n"
          ]
        },
        {
          "data": {
            "image/png": "[encoded data removed]",
            "text/plain": [
              "<Figure size 600x400 with 2 Axes>"
            ]
          },
          "metadata": {},
          "output_type": "display_data"
        }
      ],
      "source": [
        "# Code pengujian pada data test menggunakan classifier ke\n",
        "from sklearn.metrics import accuracy_score, classification_report, confusion_matrix\n",
        "import seaborn as sns\n",
        "import matplotlib.pyplot as plt\n",
        "\n",
        "# Make predictions on test data\n",
        "y_pred = (classifier_2.predict(X_test) > 0.5).astype(int)"
      ]
    },
    {
      "cell_type": "markdown",
      "metadata": {
        "id": "7QfNcYoTbLyl"
      },
      "source": [
        "## 14) Analisa performansi model setelah HPO"
      ]
    },
    {
      "cell_type": "markdown",
      "metadata": {
        "id": "v90Y3zBCbWrG"
      },
      "source": [
        "### a) Menggunakan accuracy score"
      ]
    },
    {
      "cell_type": "code",
      "execution_count": null,
      "metadata": {
        "colab": {
          "base_uri": "https://localhost:8080/"
        },
        "id": "H6RAueVZba-q",
        "outputId": "9c52061d-dad9-467f-93d6-2eb63a68345a"
      },
      "outputs": [
        {
          "name": "stdout",
          "output_type": "stream",
          "text": [
            "Test Accuracy: 0.8801\n"
          ]
        }
      ],
      "source": [
        "# Code analisa performansi menggunakan accuracy score\n",
        "# Accuracy Score\n",
        "test_accuracy = accuracy_score(y_test, y_pred)\n",
        "print(f\"Test Accuracy: {test_accuracy:.4f}\")"
      ]
    },
    {
      "cell_type": "markdown",
      "metadata": {
        "id": "lLxxm2iLbhG2"
      },
      "source": [
        "### b) Menggunakan Confusion Matrix"
      ]
    },
    {
      "cell_type": "code",
      "execution_count": null,
      "metadata": {
        "colab": {
          "base_uri": "https://localhost:8080/",
          "height": 419
        },
        "id": "bxGZE3L2bmR6",
        "outputId": "881c08bd-6ad6-48d2-9345-59fef35f8ad0"
      },
      "outputs": [
        {
          "data": {
            "image/png": "[encoded data removed]",
            "text/plain": [
              "<Figure size 600x400 with 2 Axes>"
            ]
          },
          "metadata": {},
          "output_type": "display_data"
        }
      ],
      "source": [
        "# Code analisa performansi menggunakan confusion matrix\n",
        "# Confusion Matrix\n",
        "cm = confusion_matrix(y_test, y_pred)\n",
        "plt.figure(figsize=(6, 4))\n",
        "sns.heatmap(cm, annot=True, fmt='d', cmap='Blues', xticklabels=['Negative', 'Positive'], yticklabels=['Negative', 'Positive'])\n",
        "plt.xlabel('Predicted')\n",
        "plt.ylabel('Actual')\n",
        "plt.title('Confusion Matrix for Classifier ke-2')\n",
        "plt.show()"
      ]
    },
    {
      "cell_type": "markdown",
      "metadata": {
        "id": "RDjO1vGGbp56"
      },
      "source": [
        "### c) Menggunakan Classification Report"
      ]
    },
    {
      "cell_type": "code",
      "execution_count": null,
      "metadata": {
        "colab": {
          "base_uri": "https://localhost:8080/"
        },
        "id": "6MN4Y0zGbuJ0",
        "outputId": "002b77e9-a0f6-4e1f-9c9e-86066956fd9b"
      },
      "outputs": [
        {
          "name": "stdout",
          "output_type": "stream",
          "text": [
            "\n",
            "Classification Report:\n",
            "              precision    recall  f1-score   support\n",
            "\n",
            "    Negative       0.88      0.88      0.88      4939\n",
            "    Positive       0.88      0.88      0.88      4978\n",
            "\n",
            "    accuracy                           0.88      9917\n",
            "   macro avg       0.88      0.88      0.88      9917\n",
            "weighted avg       0.88      0.88      0.88      9917\n",
            "\n"
          ]
        }
      ],
      "source": [
        "# Code analisa performansi menggunakan classification report\n",
        "# Classification Report\n",
        "print(\"\\nClassification Report:\")\n",
        "print(classification_report(y_test, y_pred, target_names=['Negative', 'Positive']))"
      ]
    },
    {
      "cell_type": "markdown",
      "metadata": {
        "id": "86cHdYBdo4Ce"
      },
      "source": [
        "## 15) Kesimpulan setelah HPO\n",
        "\n",
        "Proses HPO berhasil menghasilkan Classifier ke-2 yang lebih baik dibandingkan model baseline, dengan akurasi test set 88.01% (meningkat 0.85% dari baseline), performa antar kelas yang lebih seimbang, dan pengurangan overfitting. Parameter optimal seperti `dropout_rate=0.5` membantu meningkatkan generalisasi model, sementara `embedding_dim=100` memberikan representasi teks yang cukup baik. Untuk mencapai akurasi di atas 90%, disarankan untuk bereksperimen dengan arsitektur model yang lebih canggih, embeddings pre-trained, atau strategi HPO yang lebih komprehensif."
      ]
    }
  ],
  "metadata": {
    "accelerator": "GPU",
    "colab": {
      "gpuType": "T4",
      "provenance": []
    },
    "kernelspec": {
      "display_name": "Python 3",
      "name": "python3"
    },
    "language_info": {
      "codemirror_mode": {
        "name": "ipython",
        "version": 3
      },
      "file_extension": ".py",
      "mimetype": "text/x-python",
      "name": "python",
      "nbconvert_exporter": "python",
      "pygments_lexer": "ipython3",
      "version": "3.13.2"
    }
  },
  "nbformat": 4,
  "nbformat_minor": 0
}
